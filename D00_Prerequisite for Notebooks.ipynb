{
 "cells": [
  {
   "cell_type": "markdown",
   "metadata": {},
   "source": [
    "# About: Notebook環境Prerequisite\n",
    "\n",
    "Notebook環境が満たすべき状態を明示的に定義する。\n",
    "自分のNotebook環境にこのNotebookをコピーし、読み進めていって、条件を満たしているかどうかを確認する。\n",
    "\n",
    "条件には推奨の度合いによりレベルがあり、 **A=必須、B=推奨、C=任意** というレベルを設定してある。\n",
    "\n",
    "このNotebookを確認することで、全ホストが **Seedingが済んだ状態である** かどうかを確認することができる。"
   ]
  },
  {
   "cell_type": "markdown",
   "metadata": {},
   "source": [
    "# Ansibleの設定\n",
    "\n",
    "Notebook環境は、以下の条件を満たしている必要がある。\n",
    "\n",
    "## Ansibleがインストールされていること - A\n",
    "\n",
    "以下のコマンド実行がエラーとならず、インストールされているAnsibleのバージョンが表示されること。"
   ]
  },
  {
   "cell_type": "code",
   "execution_count": 1,
   "metadata": {
    "collapsed": false
   },
   "outputs": [
    {
     "name": "stdout",
     "output_type": "stream",
     "text": [
      "ansible 2.1.0.0\r\n",
      "  config file = /etc/ansible/ansible.cfg\r\n",
      "  configured module search path = Default w/o overrides\r\n"
     ]
    }
   ],
   "source": [
    "!ansible --version"
   ]
  },
  {
   "cell_type": "markdown",
   "metadata": {},
   "source": [
    "ansibleコマンドがインストールされていない場合は、[Installing the Control Machine](http://docs.ansible.com/ansible/intro_installation.html#installing-the-control-machine)を参考に、Ansibleをインストールする。"
   ]
  },
  {
   "cell_type": "markdown",
   "metadata": {},
   "source": [
    "## AnsibleでDefault Moduleが利用可能であること - A\n",
    "\n",
    "DefaultのModuleが使えればよい。特にカスタマイズすべき項目はなし。*...将来は腐っているモジュールは差し替えたい。*"
   ]
  },
  {
   "cell_type": "markdown",
   "metadata": {},
   "source": [
    "# Ansible - Binding対象間の設定\n",
    "\n",
    "このNotebook環境にインストールされているAnsibleは、Binding対象となるホストに対して通信、操作可能な状態になっている必要がある。"
   ]
  },
  {
   "cell_type": "markdown",
   "metadata": {},
   "source": [
    "## Default Inventoryが設定されていること - B\n",
    "\n",
    "以下のコマンド実行がエラーとならず、 `inventory = (Default Inventoryのパス)` が設定されていること。\n",
    "\n",
    "> これを指定しないと、運用Notebookのansible実行ごとにInventoryを指定する必要がある・・・あまりNotebookには **Notebookが動作する環境に依存した項目を書きたくない** ので必須としている。"
   ]
  },
  {
   "cell_type": "code",
   "execution_count": 2,
   "metadata": {
    "collapsed": false
   },
   "outputs": [
    {
     "name": "stdout",
     "output_type": "stream",
     "text": [
      "private_key_file = /root/.ssh/ansible_id_rsa\r\n",
      "ansible_ssh_user = ansible\r\n",
      "\u001b[01;31m\u001b[Kinventory\u001b[m\u001b[K = /notebooks/inventory\r\n"
     ]
    }
   ],
   "source": [
    "!cat ${ANSIBLE_CONFIG:-/etc/ansible/ansible.cfg} | grep --color=always -A 2 -B 2 \"^inventory\""
   ]
  },
  {
   "cell_type": "markdown",
   "metadata": {},
   "source": [
    "[Configuration file](http://docs.ansible.com/ansible/intro_configuration.html) を参考にしながら、Default Inventoryを指定しておく。Default Inventoryを指定しない場合は、対象とのBindingの際にInventoryの指定を加えること。"
   ]
  },
  {
   "cell_type": "markdown",
   "metadata": {},
   "source": [
    "## Inventoryに指定されたホストに到達可能なこと - A\n",
    "\n",
    "AnsibleのInventoryに指定された全ホストに対して、この環境からアクセス可能であること。\n",
    "\n",
    "- 以下のコマンド実行がエラーもしくは警告(`provided hosts list is empty`)とならないこと\n",
    "- Inventoryに登録されているホストに関して、すべてSUCCESSとなること"
   ]
  },
  {
   "cell_type": "code",
   "execution_count": 3,
   "metadata": {
    "collapsed": false,
    "scrolled": true
   },
   "outputs": [
    {
     "name": "stdout",
     "output_type": "stream",
     "text": [
      "\u001b[0;32mXXX.XXX.XXX.66 | SUCCESS => {\n",
      "    \"changed\": false, \n",
      "    \"ping\": \"pong\"\n",
      "}\u001b[0m\n",
      "\u001b[0;32mXXX.XXX.XXX.105 | SUCCESS => {\n",
      "    \"changed\": false, \n",
      "    \"ping\": \"pong\"\n",
      "}\u001b[0m\n",
      "\u001b[0;32mXXX.XXX.XXX.59 | SUCCESS => {\n",
      "    \"changed\": false, \n",
      "    \"ping\": \"pong\"\n",
      "}\u001b[0m\n"
     ]
    }
   ],
   "source": [
    "!ansible -m ping all"
   ]
  },
  {
   "cell_type": "markdown",
   "metadata": {},
   "source": [
    "このNotebook環境のAnsibleから、ホストへの認証方法については特に問わない。\n",
    "\n",
    "> 我々(NIIクラウド運用チーム)の環境ではkeypairによる認証を使ってAnsibleから各ホストにアクセスをしている。\n",
    "> そのため、以下のpublic keyをBinding対象ホストの `~/.ssh/authorized_keys` に設定している。"
   ]
  },
  {
   "cell_type": "code",
   "execution_count": 4,
   "metadata": {
    "collapsed": false
   },
   "outputs": [
    {
     "name": "stdout",
     "output_type": "stream",
     "text": [
      "ssh-rsa XXXXXXXXXXXXXXXXXXXXXXXXXXXXXXXXXXXXXXXXXXXXXXXXXXXXXXXXXXXXXXXXXXXXXXXXXXXXXXXXXXXXXXXXXXXXXXXXXXXXXXXXXXXXXXXXXXXXXXXXXXXXXXXXXXXXXXXXXXXXXXXXXXXXXXXXXXXXXXXXXXXXXXXXXXXXXXXXXXXXXXXXXXXXXXXXXXXXXXXXXXXXXXXXXXXXXXXXXXXXXXXXXXXXXXXXXXXXXXXXXXXXXXXXXXXXXXXXXXXXXXXXXXXXXXXXXXXXXXXXXXXXXXXXXXXXXXXXXXXXXXXXXXXXXXXXXXXXXXXXXXXXXXXXXXXXXXXXXXXXXXXXXXXXXXXXXXXXXXXXXXXXXXXXXXXX ansible@XXXXXXXXXXXX\r\n"
     ]
    }
   ],
   "source": [
    "!cat ~/.ssh/ansible_id_rsa.pub"
   ]
  },
  {
   "cell_type": "markdown",
   "metadata": {},
   "source": [
    "## 適切なユーザで認証されること - B\n",
    "\n",
    "Ansibleからホストへの認証は、一般ユーザとして認証されるようにしておく。\n",
    "\n",
    "> 我々(NIIクラウド運用チーム)の環境では、ユーザ ansible を作って対応している。"
   ]
  },
  {
   "cell_type": "code",
   "execution_count": 5,
   "metadata": {
    "collapsed": false
   },
   "outputs": [
    {
     "name": "stdout",
     "output_type": "stream",
     "text": [
      "\u001b[0;32mXXX.XXX.XXX.66 | SUCCESS | rc=0 >>\n",
      "ansible\n",
      "\u001b[0m\n",
      "\u001b[0;32mXXX.XXX.XXX.105 | SUCCESS | rc=0 >>\n",
      "ansible\n",
      "\u001b[0m\n",
      "\u001b[0;32mXXX.XXX.XXX.59 | SUCCESS | rc=0 >>\n",
      "ansible\n",
      "\u001b[0m\n"
     ]
    }
   ],
   "source": [
    "!ansible -a 'whoami' all"
   ]
  },
  {
   "cell_type": "markdown",
   "metadata": {},
   "source": [
    "## Binding対象ホストにてsudo可能であること - A\n",
    "\n",
    "Inventoryに記述された全ホストに関してbecome, become-userが可能であることを確認しておく。\n",
    "\n",
    "- 以下のコマンド実行がエラーとならないこと\n",
    "- Inventoryに登録されているホストに関して、すべてSUCCESSとなり、結果がrootとなること"
   ]
  },
  {
   "cell_type": "code",
   "execution_count": 6,
   "metadata": {
    "collapsed": false
   },
   "outputs": [
    {
     "name": "stdout",
     "output_type": "stream",
     "text": [
      "\u001b[0;32mXXX.XXX.XXX.66 | SUCCESS | rc=0 >>\n",
      "root\n",
      "\u001b[0m\n",
      "\u001b[0;32mXXX.XXX.XXX.105 | SUCCESS | rc=0 >>\n",
      "root\n",
      "\u001b[0m\n",
      "\u001b[0;32mXXX.XXX.XXX.59 | SUCCESS | rc=0 >>\n",
      "root\n",
      "\u001b[0m\n"
     ]
    }
   ],
   "source": [
    "!ansible --become --become-user root -a 'whoami' all"
   ]
  },
  {
   "cell_type": "markdown",
   "metadata": {},
   "source": [
    "以上の項目が満たされていればOK。"
   ]
  },
  {
   "cell_type": "markdown",
   "metadata": {
    "collapsed": true
   },
   "source": [
    "# Binding対象の設定\n",
    "\n",
    "Binding対象に関して、Notebook + Ansibleによる管理を適用する上で適切な設定になっていることを確認する。"
   ]
  },
  {
   "cell_type": "markdown",
   "metadata": {},
   "source": [
    "## Ansibleによる操作ログが記録されていること - B\n",
    "\n",
    "NotebookからBinding対象の操作をおこなった際に、過去おこなった操作を適切に参照できる必要がある。\n",
    "\n",
    "> 我々の環境では、ansibleによる操作は `/var/log/secure` (CentOSの場合) `/var/log/auth.log` (Ubuntuの場合) に記録されている"
   ]
  },
  {
   "cell_type": "code",
   "execution_count": 7,
   "metadata": {
    "collapsed": false,
    "scrolled": true
   },
   "outputs": [
    {
     "name": "stdout",
     "output_type": "stream",
     "text": [
      "\u001b[0;32mXXX.XXX.XXX.66 | SUCCESS | rc=0 >>\n",
      "/var/log/auth.log:Jun 17 23:02:22 ubuntu sudo:  ansible : TTY=pts/3 ; PWD=/home/ansible ; USER=root ; COMMAND=/bin/sh -c echo BECOME-SUCCESS-bvlvlprywjftoofuddcvycadctvlxlpt; LANG=en_US.UTF-8 LC_ALL=en_US.UTF-8 LC_MESSAGES=en_US.UTF-8 /usr/bin/python /home/ansible/.ansible/tmp/ansible-tmp-1466172142.43-67445864722369/command; rm -rf \"/home/ansible/.ansible/tmp/ansible-tmp-1466172142.43-67445864722369/\" > /dev/null 2>&1\n",
      "/var/log/auth.log:Jun 17 23:02:27 ubuntu sudo:  ansible : TTY=pts/3 ; PWD=/home/ansible ; USER=root ; COMMAND=/bin/sh -c echo BECOME-SUCCESS-hsyrmwfqwdfrolqqfinhmdyyuhavfoxt; LANG=en_US.UTF-8 LC_ALL=en_US.UTF-8 LC_MESSAGES=en_US.UTF-8 /usr/bin/python /home/ansible/.ansible/tmp/ansible-tmp-1466172147.34-2143486004272/command; rm -rf \"/home/ansible/.ansible/tmp/ansible-tmp-1466172147.34-2143486004272/\" > /dev/null 2>&1\n",
      "/var/log/auth.log:Jun 17 23:02:48 ubuntu sudo:  ansible : TTY=pts/3 ; PWD=/home/ansible ; USER=root ; COMMAND=/bin/sh -c echo BECOME-SUCCESS-mxsxkcatoymbqtkztylihcmzvrtojhfm; LANG=en_US.UTF-8 LC_ALL=en_US.UTF-8 LC_MESSAGES=en_US.UTF-8 /usr/bin/python /home/ansible/.ansible/tmp/ansible-tmp-1466172168.91-89050317978936/command; rm -rf \"/home/ansible/.ansible/tmp/ansible-tmp-1466172168.91-89050317978936/\" > /dev/null 2>&1\n",
      "/var/log/auth.log:Jun 17 23:03:28 ubuntu sudo:  ansible : TTY=pts/3 ; PWD=/home/ansible ; USER=root ; COMMAND=/bin/sh -c echo BECOME-SUCCESS-ijfudwqvkvukapwfjfzscttekfakqqga; LANG=en_US.UTF-8 LC_ALL=en_US.UTF-8 LC_MESSAGES=en_US.UTF-8 /usr/bin/python /home/ansible/.ansible/tmp/ansible-tmp-1466172208.56-41142209901880/command; rm -rf \"/home/ansible/.ansible/tmp/ansible-tmp-1466172208.56-41142209901880/\" > /dev/null 2>&1\n",
      "/var/log/auth.log:Jun 17 23:04:35 ubuntu sudo:  ansible : TTY=pts/3 ; PWD=/home/ansible ; USER=root ; COMMAND=/bin/sh -c echo BECOME-SUCCESS-rnqksrucrmjvuifahrsctvnybqwztuib; LANG=en_US.UTF-8 LC_ALL=en_US.UTF-8 LC_MESSAGES=en_US.UTF-8 /usr/bin/python /home/ansible/.ansible/tmp/ansible-tmp-1466172275.03-71458913933404/command; rm -rf \"/home/ansible/.ansible/tmp/ansible-tmp-1466172275.03-71458913933404/\" > /dev/null 2>&1\n",
      "/var/log/auth.log:Jun 17 23:04:36 ubuntu sudo:  ansible : TTY=pts/3 ; PWD=/home/ansible ; USER=root ; COMMAND=/bin/sh -c echo BECOME-SUCCESS-drzncmgimjjzclorbmkuhviliimfbswz; LANG=en_US.UTF-8 LC_ALL=en_US.UTF-8 LC_MESSAGES=en_US.UTF-8 /usr/bin/python /home/ansible/.ansible/tmp/ansible-tmp-1466172276.7-230635552177736/command; rm -rf \"/home/ansible/.ansible/tmp/ansible-tmp-1466172276.7-230635552177736/\" > /dev/null 2>&1\n",
      "/var/log/auth.log:Jun 18 05:11:15 ubuntu sudo:  ansible : TTY=pts/0 ; PWD=/home/ansible ; USER=root ; COMMAND=/bin/sh -c echo BECOME-SUCCESS-xxrkycqngznjzewnhbhvfshvweujiogs; LANG=en_US.UTF-8 LC_ALL=en_US.UTF-8 LC_MESSAGES=en_US.UTF-8 /usr/bin/python /home/ansible/.ansible/tmp/ansible-tmp-1466194275.75-105543248348241/command; rm -rf \"/home/ansible/.ansible/tmp/ansible-tmp-1466194275.75-105543248348241/\" > /dev/null 2>&1\n",
      "/var/log/auth.log:Jun 18 05:11:20 ubuntu sudo:  ansible : TTY=pts/0 ; PWD=/home/ansible ; USER=root ; COMMAND=/bin/sh -c echo BECOME-SUCCESS-wmkklcyqzbchcmiteajsnvtdrrgiiwaw; LANG=en_US.UTF-8 LC_ALL=en_US.UTF-8 LC_MESSAGES=en_US.UTF-8 /usr/bin/python /home/ansible/.ansible/tmp/ansible-tmp-1466194280.78-272715919485435/command; rm -rf \"/home/ansible/.ansible/tmp/ansible-tmp-1466194280.78-272715919485435/\" > /dev/null 2>&1\n",
      "/var/log/auth.log:Jun 18 05:12:36 ubuntu sudo:  ansible : TTY=pts/0 ; PWD=/home/ansible ; USER=root ; COMMAND=/bin/sh -c echo BECOME-SUCCESS-eqngnkckbfosgyxywvjwfauxvprzatfe; LANG=en_US.UTF-8 LC_ALL=en_US.UTF-8 LC_MESSAGES=en_US.UTF-8 /usr/bin/python /home/ansible/.ansible/tmp/ansible-tmp-1466194356.37-75282088642744/command; rm -rf \"/home/ansible/.ansible/tmp/ansible-tmp-1466194356.37-75282088642744/\" > /dev/null 2>&1\n",
      "/var/log/auth.log:Jun 18 05:12:39 ubuntu sudo:  ansible : TTY=pts/0 ; PWD=/home/ansible ; USER=root ; COMMAND=/bin/sh -c echo BECOME-SUCCESS-cynxivtppjgfjulafxdpmhsckaaveroc; LANG=en_US.UTF-8 LC_ALL=en_US.UTF-8 LC_MESSAGES=en_US.UTF-8 /usr/bin/python /home/ansible/.ansible/tmp/ansible-tmp-1466194359.68-240994693197277/command; rm -rf \"/home/ansible/.ansible/tmp/ansible-tmp-1466194359.68-240994693197277/\" > /dev/null 2>&1grep: /var/log/apt: Is a directory\n",
      "grep: /var/log/dist-upgrade: Is a directory\n",
      "grep: /var/log/fsck: Is a directory\n",
      "grep: /var/log/installer: Is a directory\n",
      "grep: /var/log/upstart: Is a directory\n",
      "\u001b[0m\n",
      "\u001b[0;32mXXX.XXX.XXX.105 | SUCCESS | rc=0 >>\n",
      "/var/log/secure-20160617:Jun 17 19:36:34 cn05061101 sudo:  ansible : TTY=pts/1 ; PWD=/home/ansible ; USER=root ; COMMAND=/bin/sh -c echo BECOME-SUCCESS-kmroumtqkayqddvxjbnwirpkxjwebmyl; LANG=en_US.UTF-8 LC_ALL=en_US.UTF-8 LC_MESSAGES=en_US.UTF-8 /usr/bin/python /home/ansible/.ansible/tmp/ansible-tmp-1466159794.58-266465335406742/command; rm -rf \"/home/ansible/.ansible/tmp/ansible-tmp-1466159794.58-266465335406742/\" > /dev/null 2>&1\n",
      "/var/log/secure-20160617:Jun 17 19:36:41 cn05061101 sudo:  ansible : TTY=pts/1 ; PWD=/home/ansible ; USER=root ; COMMAND=/bin/sh -c echo BECOME-SUCCESS-quosdkmlocwcvvmfssnhhzertcobjlye; LANG=en_US.UTF-8 LC_ALL=en_US.UTF-8 LC_MESSAGES=en_US.UTF-8 /usr/bin/python /home/ansible/.ansible/tmp/ansible-tmp-1466159801.27-212059753868173/stat; rm -rf \"/home/ansible/.ansible/tmp/ansible-tmp-1466159801.27-212059753868173/\" > /dev/null 2>&1\n",
      "/var/log/secure-20160617:Jun 17 19:36:41 cn05061101 sudo:  ansible : TTY=pts/1 ; PWD=/home/ansible ; USER=root ; COMMAND=/bin/sh -c echo BECOME-SUCCESS-hidfgrlcpybgawrakutekkkyrmqaepdz; LANG=en_US.UTF-8 LC_ALL=en_US.UTF-8 LC_MESSAGES=en_US.UTF-8 /usr/bin/python /home/ansible/.ansible/tmp/ansible-tmp-1466159801.56-237769564436842/stat; rm -rf \"/home/ansible/.ansible/tmp/ansible-tmp-1466159801.56-237769564436842/\" > /dev/null 2>&1\n",
      "/var/log/secure-20160617:Jun 17 19:36:42 cn05061101 sudo:  ansible : TTY=pts/1 ; PWD=/home/ansible ; USER=root ; COMMAND=/bin/sh -c echo BECOME-SUCCESS-pkzupeeebnqsddiwatekahiftymodwmn; LANG=en_US.UTF-8 LC_ALL=en_US.UTF-8 LC_MESSAGES=en_US.UTF-8 /usr/bin/python /home/ansible/.ansible/tmp/ansible-tmp-1466159801.84-99574324761647/copy; rm -rf \"/home/ansible/.ansible/tmp/ansible-tmp-1466159801.84-99574324761647/\" > /dev/null 2>&1\n",
      "/var/log/secure-20160617:Jun 17 19:36:46 cn05061101 sudo:  ansible : TTY=pts/1 ; PWD=/home/ansible ; USER=root ; COMMAND=/bin/sh -c echo BECOME-SUCCESS-ppeybtifsylmeuqaicgvzgzvkuyddhee; LANG=en_US.UTF-8 LC_ALL=en_US.UTF-8 LC_MESSAGES=en_US.UTF-8 /usr/bin/python /home/ansible/.ansible/tmp/ansible-tmp-1466159806.28-167110350100969/command; rm -rf \"/home/ansible/.ansible/tmp/ansible-tmp-1466159806.28-167110350100969/\" > /dev/null 2>&1\n",
      "/var/log/secure-20160617:Jun 17 19:36:50 cn05061101 sudo:  ansible : TTY=pts/1 ; PWD=/home/ansible ; USER=root ; COMMAND=/bin/sh -c echo BECOME-SUCCESS-lrjmcjfsiwbmwqpoojybolnbdqrcykbb; LANG=en_US.UTF-8 LC_ALL=en_US.UTF-8 LC_MESSAGES=en_US.UTF-8 /usr/bin/python /home/ansible/.ansible/tmp/ansible-tmp-1466159810.11-161945655218922/command; rm -rf \"/home/ansible/.ansible/tmp/ansible-tmp-1466159810.11-161945655218922/\" > /dev/null 2>&1\n",
      "/var/log/secure-20160617:Jun 17 19:36:59 cn05061101 sudo:  ansible : TTY=pts/1 ; PWD=/home/ansible ; USER=root ; COMMAND=/bin/sh -c echo BECOME-SUCCESS-samwvofjmnvzzogdemvtwnymdzftorjq; LANG=en_US.UTF-8 LC_ALL=en_US.UTF-8 LC_MESSAGES=en_US.UTF-8 /usr/bin/python /home/ansible/.ansible/tmp/ansible-tmp-1466159819.22-88649871534645/command; rm -rf \"/home/ansible/.ansible/tmp/ansible-tmp-1466159819.22-88649871534645/\" > /dev/null 2>&1\n",
      "/var/log/secure-20160617:Jun 17 19:37:10 cn05061101 sudo:  ansible : TTY=pts/1 ; PWD=/home/ansible ; USER=root ; COMMAND=/bin/sh -c echo BECOME-SUCCESS-yhqfhlbjqcockhthjalncaomduqdthdi; LANG=en_US.UTF-8 LC_ALL=en_US.UTF-8 LC_MESSAGES=en_US.UTF-8 /usr/bin/python /home/ansible/.ansible/tmp/ansible-tmp-1466159830.78-99911443277887/lineinfile; rm -rf \"/home/ansible/.ansible/tmp/ansible-tmp-1466159830.78-99911443277887/\" > /dev/null 2>&1\n",
      "/var/log/secure-20160617:Jun 17 19:37:17 cn05061101 sudo:  ansible : TTY=pts/1 ; PWD=/home/ansible ; USER=root ; COMMAND=/bin/sh -c echo BECOME-SUCCESS-pvsyhhmmlkvxlmtnexipaxuccsyhvpwd; LANG=en_US.UTF-8 LC_ALL=en_US.UTF-8 LC_MESSAGES=en_US.UTF-8 /usr/bin/python /home/ansible/.ansible/tmp/ansible-tmp-1466159837.85-95957916103138/service; rm -rf \"/home/ansible/.ansible/tmp/ansible-tmp-1466159837.85-95957916103138/\" > /dev/null 2>&1\n",
      "/var/log/secure-20160617:Jun 17 19:37:23 cn05061101 sudo:  ansible : TTY=pts/1 ; PWD=/home/ansible ; USER=root ; COMMAND=/bin/sh -c echo BECOME-SUCCESS-wjeimoqanuoaclufvmczgpistutaygkz; LANG=en_US.UTF-8 LC_ALL=en_US.UTF-8 LC_MESSAGES=en_US.UTF-8 /usr/bin/python /home/ansible/.ansible/tmp/ansible-tmp-1466159843.79-223428378392159/command; rm -rf \"/home/ansible/.ansible/tmp/ansible-tmp-1466159843.79-223428378392159/\" > /dev/null 2>&1grep: /var/log/audit: Is a directory\n",
      "grep: /var/log/ConsoleKit: Is a directory\n",
      "grep: /var/log/cups: Is a directory\n",
      "grep: /var/log/dodai: Is a directory\n",
      "grep: /var/log/glusterfs: Is a directory\n",
      "grep: /var/log/libvirt: Is a directory\n",
      "grep: /var/log/munin: Is a directory\n",
      "grep: /var/log/munin-node: Is a directory\n",
      "grep: /var/log/ntpstats: Is a directory\n",
      "grep: /var/log/sa: Is a directory\n",
      "\u001b[0m\n",
      "\u001b[0;32mXXX.XXX.XXX.59 | SUCCESS | rc=0 >>\n",
      "/var/log/auth.log:Jun 17 20:11:17 test-gce sudo:  ansible : TTY=pts/0 ; PWD=/home/ansible ; USER=root ; COMMAND=/bin/sh -c echo BECOME-SUCCESS-ouskckebabmkosvpgydwsisisoqjrrfz; LANG=en_US.UTF-8 LC_ALL=en_US.UTF-8 LC_MESSAGES=en_US.UTF-8 /usr/bin/python /home/ansible/.ansible/tmp/ansible-tmp-1466194275.75-263740296786235/command; rm -rf \"/home/ansible/.ansible/tmp/ansible-tmp-1466194275.75-263740296786235/\" > /dev/null 2>&1\n",
      "/var/log/auth.log:Jun 17 20:11:22 test-gce sudo:  ansible : TTY=pts/0 ; PWD=/home/ansible ; USER=root ; COMMAND=/bin/sh -c echo BECOME-SUCCESS-kwnwvlfutvoiarokypzluxtjtkgpcwtx; LANG=en_US.UTF-8 LC_ALL=en_US.UTF-8 LC_MESSAGES=en_US.UTF-8 /usr/bin/python /home/ansible/.ansible/tmp/ansible-tmp-1466194280.78-148070716328231/command; rm -rf \"/home/ansible/.ansible/tmp/ansible-tmp-1466194280.78-148070716328231/\" > /dev/null 2>&1\n",
      "/var/log/auth.log:Jun 17 20:12:15 test-gce sudo:  ansible : TTY=pts/0 ; PWD=/home/ansible ; USER=root ; COMMAND=/bin/sh -c echo BECOME-SUCCESS-hucsybekcdrwxkadjpzydlxqiyixavfm; LANG=en_US.UTF-8 LC_ALL=en_US.UTF-8 LC_MESSAGES=en_US.UTF-8 /usr/bin/python /home/ansible/.ansible/tmp/ansible-tmp-1466194334.1-66155513789460/apt; rm -rf \"/home/ansible/.ansible/tmp/ansible-tmp-1466194334.1-66155513789460/\" > /dev/null 2>&1\n",
      "/var/log/auth.log:Jun 17 20:12:38 test-gce sudo:  ansible : TTY=pts/0 ; PWD=/home/ansible ; USER=root ; COMMAND=/bin/sh -c echo BECOME-SUCCESS-wjqvmgceixswptdxsdwatspowlfwgwny; LANG=en_US.UTF-8 LC_ALL=en_US.UTF-8 LC_MESSAGES=en_US.UTF-8 /usr/bin/python /home/ansible/.ansible/tmp/ansible-tmp-1466194356.37-8229784321158/command; rm -rf \"/home/ansible/.ansible/tmp/ansible-tmp-1466194356.37-8229784321158/\" > /dev/null 2>&1\n",
      "/var/log/auth.log:Jun 17 20:12:41 test-gce sudo:  ansible : TTY=pts/0 ; PWD=/home/ansible ; USER=root ; COMMAND=/bin/sh -c echo BECOME-SUCCESS-hggqvgmlxuopuayueadupmzgtuayzoun; LANG=en_US.UTF-8 LC_ALL=en_US.UTF-8 LC_MESSAGES=en_US.UTF-8 /usr/bin/python /home/ansible/.ansible/tmp/ansible-tmp-1466194359.68-252788100125235/command; rm -rf \"/home/ansible/.ansible/tmp/ansible-tmp-1466194359.68-252788100125235/\" > /dev/null 2>&1grep: /var/log/apt: Is a directory\n",
      "grep: /var/log/dist-upgrade: Is a directory\n",
      "grep: /var/log/fsck: Is a directory\n",
      "grep: /var/log/landscape: Is a directory\n",
      "grep: /var/log/ntpstats: Is a directory\n",
      "grep: /var/log/unattended-upgrades: Is a directory\n",
      "grep: /var/log/upstart: Is a directory\n",
      "\u001b[0m\n"
     ]
    }
   ],
   "source": [
    "!ansible -b -m shell -a 'grep ansible- /var/log/* | tail' all"
   ]
  },
  {
   "cell_type": "markdown",
   "metadata": {},
   "source": [
    "### ログファイルが適切にrotateされていること - B\n",
    "\n",
    "操作の記録がディスクを圧迫しないことを確認しておく。ログは短期的な(Ansibleによる)操作の記録として参照可能にしておくべきものという前提。長期的には、Notebookを証跡としてアーカイブしておくべき。"
   ]
  },
  {
   "cell_type": "markdown",
   "metadata": {},
   "source": [
    "## 共通の方法でホストの状況が確認できること - C\n",
    "\n",
    "Notebookによる操作実施時は、適当なチェックポイントごとに状況を記録することで、後戻りしたくなった時に戻れる(戻ったことが確認できる)ようにする。"
   ]
  },
  {
   "cell_type": "markdown",
   "metadata": {},
   "source": [
    "### OSのバージョン確認\n",
    "\n",
    "lsb_releaseを使う。"
   ]
  },
  {
   "cell_type": "code",
   "execution_count": 8,
   "metadata": {
    "collapsed": false
   },
   "outputs": [
    {
     "name": "stdout",
     "output_type": "stream",
     "text": [
      "\u001b[0;32mXXX.XXX.XXX.66 | SUCCESS | rc=0 >>\n",
      "Distributor ID:\tUbuntu\n",
      "Description:\tUbuntu 14.04.4 LTS\n",
      "Release:\t14.04\n",
      "Codename:\ttrustyNo LSB modules are available.\n",
      "\u001b[0m\n",
      "\u001b[0;32mXXX.XXX.XXX.105 | SUCCESS | rc=0 >>\n",
      "LSB Version:\t:base-4.0-amd64:base-4.0-noarch:core-4.0-amd64:core-4.0-noarch:graphics-4.0-amd64:graphics-4.0-noarch:printing-4.0-amd64:printing-4.0-noarch\n",
      "Distributor ID:\tCentOS\n",
      "Description:\tCentOS release 6.8 (Final)\n",
      "Release:\t6.8\n",
      "Codename:\tFinal\n",
      "\u001b[0m\n",
      "\u001b[0;32mXXX.XXX.XXX.59 | SUCCESS | rc=0 >>\n",
      "Distributor ID:\tUbuntu\n",
      "Description:\tUbuntu 14.04.4 LTS\n",
      "Release:\t14.04\n",
      "Codename:\ttrustyNo LSB modules are available.\n",
      "\u001b[0m\n"
     ]
    }
   ],
   "source": [
    "!ansible -a 'lsb_release -a' all"
   ]
  },
  {
   "cell_type": "markdown",
   "metadata": {},
   "source": [
    "### ファイル構成の確認\n",
    "\n",
    "treeコマンドを使う。"
   ]
  },
  {
   "cell_type": "code",
   "execution_count": 9,
   "metadata": {
    "collapsed": false
   },
   "outputs": [
    {
     "name": "stdout",
     "output_type": "stream",
     "text": [
      "\u001b[0;32mXXX.XXX.XXX.66 | SUCCESS | rc=0 >>\n",
      "/tmp\n",
      "└── ansible_bxzXfW\n",
      "    ├── ansible_modlib.zip\n",
      "    └── ansible_module_command.py\n",
      "\n",
      "1 directory, 2 files\n",
      "\u001b[0m\n",
      "\u001b[0;32mXXX.XXX.XXX.105 | SUCCESS | rc=0 >>\n",
      "/tmp\n",
      "├── ansible_DgRpfV\n",
      "│   ├── ansible_modlib.zip\n",
      "│   └── ansible_module_command.py\n",
      "├── CentOS-6.8-x86_64-minimal.iso\n",
      "├── centos6.ks.cfg\n",
      "└── ubuntu14.04.ks.cfg\n",
      "\n",
      "1 directory, 5 files\n",
      "\u001b[0m\n",
      "\u001b[0;32mXXX.XXX.XXX.59 | SUCCESS | rc=0 >>\n",
      "/tmp\n",
      "└── ansible_BYOvNB\n",
      "    ├── ansible_modlib.zip\n",
      "    └── ansible_module_command.py\n",
      "\n",
      "1 directory, 2 files\n",
      "\u001b[0m\n"
     ]
    }
   ],
   "source": [
    "!ansible -a 'tree /tmp' all"
   ]
  },
  {
   "cell_type": "markdown",
   "metadata": {},
   "source": [
    "## リソースの使用状況変化をモニタリングしていること - C\n",
    "\n",
    "Binding対象を操作した際に、予期せぬディスク使用量増加やサービス異常終了に気づけるよう、状況変化をモニタリングしていることが望ましい。"
   ]
  },
  {
   "cell_type": "code",
   "execution_count": null,
   "metadata": {
    "collapsed": true
   },
   "outputs": [],
   "source": []
  }
 ],
 "metadata": {
  "kernelspec": {
   "display_name": "Python 2",
   "language": "python",
   "name": "python2"
  },
  "language_info": {
   "codemirror_mode": {
    "name": "ipython",
    "version": 2
   },
   "file_extension": ".py",
   "mimetype": "text/x-python",
   "name": "python",
   "nbconvert_exporter": "python",
   "pygments_lexer": "ipython2",
   "version": "2.7.6"
  },
  "toc": {
   "toc_cell": false,
   "toc_number_sections": true,
   "toc_threshold": 6,
   "toc_window_display": false
  }
 },
 "nbformat": 4,
 "nbformat_minor": 0
}
