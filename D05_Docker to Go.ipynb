{
 "cells": [
  {
   "cell_type": "markdown",
   "metadata": {},
   "source": [
    "# About: Dockerのインストール\n",
    "\n",
    "Ubuntu 14.04環境にDockerをインストールするためのNotebook。\n",
    "\n",
    "このNotebookによりインストールできるソフトウェアは以下の通り。\n",
    "\n",
    "- Docker Engine\n",
    "- Docker Compose\n",
    "\n",
    "Docker Engineのインストール手順は、[Installation on Ubuntu](https://docs.docker.com/engine/installation/ubuntulinux/) (*2016/6/3時点での最新版*) を参考に作成している。また、Docker Composeのインストール手順は、[Install Docker Compose](https://docs.docker.com/compose/install/) (*2016/6/3時点での最新版*) を参考に作成している。"
   ]
  },
  {
   "cell_type": "markdown",
   "metadata": {},
   "source": [
    "## Operation Note\n",
    "\n",
    "*お手本の作成用*\n"
   ]
  },
  {
   "cell_type": "markdown",
   "metadata": {},
   "source": [
    "## 設定情報\n",
    "\n",
    "このNotebookで行う設定は、以下のようにする。\n",
    "\n",
    "- NIIのベアメタルマシンを想定 ... Docker関係のディレクトリは `/mnt`　(Ephemeralなパーティション) に配置する\n",
    "- クラウド運用チームでの利用を想定 ... Dockerのプライベートレジストリを使用するので、プライベートレジストリのホスト情報を明示する\n",
    "\n",
    "する。\n",
    "\n",
    "docker_optsの定義方法は[Command line reference / daemon](https://docs.docker.com/engine/reference/commandline/dockerd/)を参照。"
   ]
  },
  {
   "cell_type": "code",
   "execution_count": 1,
   "metadata": {
    "collapsed": false
   },
   "outputs": [],
   "source": [
    "docker_tmp = \"/mnt/docker-tmp\"\n",
    "docker_base = \"/mnt/docker\"\n",
    "docker_opts =\"-g {docker_base} --insecure-registry XXX.XXX.XXX.93:5000\".format(docker_base=docker_base)"
   ]
  },
  {
   "cell_type": "markdown",
   "metadata": {},
   "source": [
    "# Notebookと環境のBinding\n",
    "\n",
    "Inventory中のgroup名でBind対象ホスト(Docker Engineをインストールしたいホスト)を指示する。"
   ]
  },
  {
   "cell_type": "code",
   "execution_count": 3,
   "metadata": {
    "ExecuteTime": {
     "end_time": "2016-05-13T07:42:43.642400",
     "start_time": "2016-05-13T07:42:43.633865"
    },
    "collapsed": true
   },
   "outputs": [],
   "source": [
    "target_group = 'test-vm'"
   ]
  },
  {
   "cell_type": "markdown",
   "metadata": {},
   "source": [
    "Bind対象への疎通状態を確認する。"
   ]
  },
  {
   "cell_type": "code",
   "execution_count": 4,
   "metadata": {
    "ExecuteTime": {
     "end_time": "2016-05-13T07:42:46.386073",
     "start_time": "2016-05-13T07:42:44.599311"
    },
    "collapsed": false
   },
   "outputs": [
    {
     "name": "stdout",
     "output_type": "stream",
     "text": [
      "\u001b[0;32mXXX.XXX.XXX.66 | SUCCESS => {\r\n",
      "    \"changed\": false, \r\n",
      "    \"ping\": \"pong\"\r\n",
      "}\u001b[0m\r\n"
     ]
    }
   ],
   "source": [
    "!ansible -m ping {target_group}"
   ]
  },
  {
   "cell_type": "markdown",
   "metadata": {},
   "source": [
    "# Binding対象の確認\n",
    "\n",
    "[Prerequisites](https://docs.docker.com/engine/installation/linux/ubuntulinux/#prerequisites)に示されているとおり、このNotebookを使ってDockerをインストールする対象のホストは、以下の条件を満たしている必要がある。\n",
    "\n",
    "もし、このインストール手順に失敗したら、**この条件を満たす状態にマシンを戻す(パッケージの削除, マシンの再プロビジョニングなど)**ことで、**(このNotebookによって)Dockerをインストール可能な状態に戻す**ことができる。"
   ]
  },
  {
   "cell_type": "markdown",
   "metadata": {},
   "source": [
    "## 64bit版を使う\n",
    "\n",
    "Ubuntuのバージョンにかかわらず、Docker Engineを動作させるには64bit版が必要。"
   ]
  },
  {
   "cell_type": "code",
   "execution_count": 5,
   "metadata": {
    "collapsed": false
   },
   "outputs": [
    {
     "name": "stdout",
     "output_type": "stream",
     "text": [
      "\u001b[0;32mXXX.XXX.XXX.66 | SUCCESS | rc=0 >>\r\n",
      "x86_64\r\n",
      "\u001b[0m\r\n"
     ]
    }
   ],
   "source": [
    "!ansible -a 'uname -m' {target_group}"
   ]
  },
  {
   "cell_type": "markdown",
   "metadata": {},
   "source": [
    "## kernel versionは最低3.10\n",
    "\n",
    "3.10未満の古いバージョンの場合はDockerの機能の一部が使えなかったり、データロストやpanicを生じる可能性がある。\n",
    "\n",
    "そのため、以下のバージョン表示が3.10以上であることを確認しておく。"
   ]
  },
  {
   "cell_type": "code",
   "execution_count": 6,
   "metadata": {
    "collapsed": false
   },
   "outputs": [
    {
     "name": "stdout",
     "output_type": "stream",
     "text": [
      "\u001b[0;32mXXX.XXX.XXX.66 | SUCCESS | rc=0 >>\r\n",
      "3.13.0-88-generic\r\n",
      "\u001b[0m\r\n"
     ]
    }
   ],
   "source": [
    "!ansible -a 'uname -r' {target_group}"
   ]
  },
  {
   "cell_type": "markdown",
   "metadata": {},
   "source": [
    "## Ubuntuは14.04を想定\n",
    "\n",
    "加えて、このNotebookは、**Ubuntu 14.04がインストールされた環境にBindingされることを前提として実装**している。\n",
    "\n",
    "以下のコマンドの出力が Ubuntu 14.04 であることを確認する。\n",
    "\n",
    "> 14.04以外のUbuntuの場合はRepositoryのURLなどを適宜読み替えること"
   ]
  },
  {
   "cell_type": "code",
   "execution_count": 7,
   "metadata": {
    "ExecuteTime": {
     "end_time": "2016-05-13T07:42:49.080256",
     "start_time": "2016-05-13T07:42:47.808150"
    },
    "collapsed": false
   },
   "outputs": [
    {
     "name": "stdout",
     "output_type": "stream",
     "text": [
      "\u001b[0;32mXXX.XXX.XXX.66 | SUCCESS | rc=0 >>\r\n",
      "Distributor ID:\tUbuntu\r\n",
      "Description:\tUbuntu 14.04.4 LTS\r\n",
      "Release:\t14.04\r\n",
      "Codename:\ttrustyNo LSB modules are available.\r\n",
      "\u001b[0m\r\n"
     ]
    }
   ],
   "source": [
    "!ansible -a 'lsb_release -a' {target_group}"
   ]
  },
  {
   "cell_type": "markdown",
   "metadata": {},
   "source": [
    "## Ubuntu-maintainedなDockerがインストールされていないこと\n",
    "\n",
    "Ubuntu-maintainedなDocker(`docker-io` パッケージ)がすでにインストールされているとファイル構成など競合するかもしれない。そのため、念のため以下のコマンドに**失敗する(FAILED)** ことを確認しておく。"
   ]
  },
  {
   "cell_type": "code",
   "execution_count": 8,
   "metadata": {
    "collapsed": false
   },
   "outputs": [
    {
     "name": "stdout",
     "output_type": "stream",
     "text": [
      "\u001b[0;31mXXX.XXX.XXX.66 | FAILED | rc=1 >>\r\n",
      "\r\n",
      "\u001b[0m\r\n"
     ]
    }
   ],
   "source": [
    "!ansible -b -m shell -a 'dpkg -l | grep docker.io' {target_group}"
   ]
  },
  {
   "cell_type": "markdown",
   "metadata": {},
   "source": [
    "## 古いrepositoryからインストールされていないこと\n",
    "\n",
    "古いrepositoryでは `lxc-docker` というパッケージ名だった時代があった・・・これがインストールされていないことも念のため確認しておく。以下のコマンドに**失敗する(FAILED)** ことを確認しておく。"
   ]
  },
  {
   "cell_type": "code",
   "execution_count": 9,
   "metadata": {
    "collapsed": false
   },
   "outputs": [
    {
     "name": "stdout",
     "output_type": "stream",
     "text": [
      "\u001b[0;31mXXX.XXX.XXX.66 | FAILED | rc=1 >>\r\n",
      "\r\n",
      "\u001b[0m\r\n"
     ]
    }
   ],
   "source": [
    "!ansible -b -m shell -a 'dpkg -l | grep lxc-docker' {target_group}"
   ]
  },
  {
   "cell_type": "markdown",
   "metadata": {},
   "source": [
    "## APTにdocker-engineのrepositoryが未登録\n",
    "\n",
    "このNotebook適用時は、docker-engineのrepositoryが未登録であることを前提としている。すでにrepositoryが登録されている場合、このNotebookで指定したパッケージが適切にインストールされないかもしれない。念のため以下のコマンドの実行結果に、**何もインストール候補バージョンが現れない**ことを確認しておく。"
   ]
  },
  {
   "cell_type": "code",
   "execution_count": 10,
   "metadata": {
    "collapsed": false,
    "scrolled": true
   },
   "outputs": [
    {
     "name": "stdout",
     "output_type": "stream",
     "text": [
      "\u001b[0;32mXXX.XXX.XXX.66 | SUCCESS | rc=0 >>\r\n",
      "Ign http://us.archive.ubuntu.com trusty InRelease\r\n",
      "Get:1 http://security.ubuntu.com trusty-security InRelease [65.9 kB]\r\n",
      "Get:2 http://us.archive.ubuntu.com trusty-updates InRelease [65.9 kB]\r\n",
      "Hit http://us.archive.ubuntu.com trusty-backports InRelease\r\n",
      "Get:3 http://security.ubuntu.com trusty-security/main Sources [117 kB]\r\n",
      "Hit http://us.archive.ubuntu.com trusty Release.gpg\r\n",
      "Get:4 http://us.archive.ubuntu.com trusty-updates/main Sources [277 kB]\r\n",
      "Get:5 http://security.ubuntu.com trusty-security/restricted Sources [4,035 B]\r\n",
      "Get:6 http://security.ubuntu.com trusty-security/universe Sources [37.3 kB]\r\n",
      "Get:7 http://us.archive.ubuntu.com trusty-updates/restricted Sources [5,352 B]\r\n",
      "Get:8 http://security.ubuntu.com trusty-security/multiverse Sources [2,757 B]\r\n",
      "Get:9 http://us.archive.ubuntu.com trusty-updates/universe Sources [156 kB]\r\n",
      "Get:10 http://security.ubuntu.com trusty-security/main amd64 Packages [493 kB]\r\n",
      "Get:11 http://us.archive.ubuntu.com trusty-updates/multiverse Sources [5,936 B]\r\n",
      "Get:12 http://us.archive.ubuntu.com trusty-updates/main amd64 Packages [781 kB]\r\n",
      "Get:13 http://security.ubuntu.com trusty-security/restricted amd64 Packages [13.0 kB]\r\n",
      "Get:14 http://us.archive.ubuntu.com trusty-updates/restricted amd64 Packages [15.9 kB]\r\n",
      "Get:15 http://security.ubuntu.com trusty-security/universe amd64 Packages [130 kB]\r\n",
      "Get:16 http://us.archive.ubuntu.com trusty-updates/universe amd64 Packages [362 kB]\r\n",
      "Get:17 http://us.archive.ubuntu.com trusty-updates/multiverse amd64 Packages [13.2 kB]\r\n",
      "Get:18 http://us.archive.ubuntu.com trusty-updates/main i386 Packages [748 kB]\r\n",
      "Get:19 http://security.ubuntu.com trusty-security/multiverse amd64 Packages [4,989 B]\r\n",
      "Get:20 http://security.ubuntu.com trusty-security/main i386 Packages [464 kB]\r\n",
      "Get:21 http://us.archive.ubuntu.com trusty-updates/restricted i386 Packages [15.6 kB]\r\n",
      "Get:22 http://us.archive.ubuntu.com trusty-updates/universe i386 Packages [363 kB]\r\n",
      "Get:23 http://security.ubuntu.com trusty-security/restricted i386 Packages [12.7 kB]\r\n",
      "Get:24 http://us.archive.ubuntu.com trusty-updates/multiverse i386 Packages [13.6 kB]\r\n",
      "Get:25 http://us.archive.ubuntu.com trusty-updates/main Translation-en [391 kB]\r\n",
      "Get:26 http://security.ubuntu.com trusty-security/universe i386 Packages [130 kB]\r\n",
      "Get:27 http://security.ubuntu.com trusty-security/multiverse i386 Packages [5,170 B]\r\n",
      "Get:28 http://us.archive.ubuntu.com trusty-updates/multiverse Translation-en [7,227 B]\r\n",
      "Get:29 http://us.archive.ubuntu.com trusty-updates/restricted Translation-en [3,699 B]\r\n",
      "Hit http://security.ubuntu.com trusty-security/main Translation-en\r\n",
      "Get:30 http://us.archive.ubuntu.com trusty-updates/universe Translation-en [189 kB]\r\n",
      "Hit http://security.ubuntu.com trusty-security/multiverse Translation-en\r\n",
      "Hit http://security.ubuntu.com trusty-security/restricted Translation-en\r\n",
      "Hit http://us.archive.ubuntu.com trusty-backports/main Sources\r\n",
      "Hit http://security.ubuntu.com trusty-security/universe Translation-en\r\n",
      "Hit http://us.archive.ubuntu.com trusty-backports/restricted Sources\r\n",
      "Hit http://us.archive.ubuntu.com trusty-backports/universe Sources\r\n",
      "Hit http://us.archive.ubuntu.com trusty-backports/multiverse Sources\r\n",
      "Hit http://us.archive.ubuntu.com trusty-backports/main amd64 Packages\r\n",
      "Hit http://us.archive.ubuntu.com trusty-backports/restricted amd64 Packages\r\n",
      "Hit http://us.archive.ubuntu.com trusty-backports/universe amd64 Packages\r\n",
      "Hit http://us.archive.ubuntu.com trusty-backports/multiverse amd64 Packages\r\n",
      "Hit http://us.archive.ubuntu.com trusty-backports/main i386 Packages\r\n",
      "Hit http://us.archive.ubuntu.com trusty-backports/restricted i386 Packages\r\n",
      "Hit http://us.archive.ubuntu.com trusty-backports/universe i386 Packages\r\n",
      "Hit http://us.archive.ubuntu.com trusty-backports/multiverse i386 Packages\r\n",
      "Hit http://us.archive.ubuntu.com trusty-backports/main Translation-en\r\n",
      "Hit http://us.archive.ubuntu.com trusty-backports/multiverse Translation-en\r\n",
      "Hit http://us.archive.ubuntu.com trusty-backports/restricted Translation-en\r\n",
      "Hit http://us.archive.ubuntu.com trusty-backports/universe Translation-en\r\n",
      "Hit http://us.archive.ubuntu.com trusty Release\r\n",
      "Hit http://us.archive.ubuntu.com trusty/main Sources\r\n",
      "Hit http://us.archive.ubuntu.com trusty/restricted Sources\r\n",
      "Hit http://us.archive.ubuntu.com trusty/universe Sources\r\n",
      "Hit http://us.archive.ubuntu.com trusty/multiverse Sources\r\n",
      "Hit http://us.archive.ubuntu.com trusty/main amd64 Packages\r\n",
      "Hit http://us.archive.ubuntu.com trusty/restricted amd64 Packages\r\n",
      "Hit http://us.archive.ubuntu.com trusty/universe amd64 Packages\r\n",
      "Hit http://us.archive.ubuntu.com trusty/multiverse amd64 Packages\r\n",
      "Hit http://us.archive.ubuntu.com trusty/main i386 Packages\r\n",
      "Hit http://us.archive.ubuntu.com trusty/restricted i386 Packages\r\n",
      "Hit http://us.archive.ubuntu.com trusty/universe i386 Packages\r\n",
      "Hit http://us.archive.ubuntu.com trusty/multiverse i386 Packages\r\n",
      "Hit http://us.archive.ubuntu.com trusty/main Translation-en\r\n",
      "Hit http://us.archive.ubuntu.com trusty/multiverse Translation-en\r\n",
      "Hit http://us.archive.ubuntu.com trusty/restricted Translation-en\r\n",
      "Hit http://us.archive.ubuntu.com trusty/universe Translation-en\r\n",
      "Ign http://us.archive.ubuntu.com trusty/main Translation-en_US\r\n",
      "Ign http://us.archive.ubuntu.com trusty/multiverse Translation-en_US\r\n",
      "Ign http://us.archive.ubuntu.com trusty/restricted Translation-en_US\r\n",
      "Ign http://us.archive.ubuntu.com trusty/universe Translation-en_US\r\n",
      "Fetched 4,892 kB in 20s (242 kB/s)\r\n",
      "Reading package lists...\r\n",
      "\u001b[0m\r\n"
     ]
    }
   ],
   "source": [
    "!ansible -b -m shell -a 'apt-get update && apt-cache policy docker-engine' {target_group}"
   ]
  },
  {
   "cell_type": "markdown",
   "metadata": {},
   "source": [
    "# Docker Engineのインストール\n",
    "\n",
    "Bind対象にDocker Engineをインストールする。"
   ]
  },
  {
   "cell_type": "markdown",
   "metadata": {},
   "source": [
    "## apt sourcesの更新\n",
    "\n",
    "Docker社のrepositoryの情報をBind対象マシンに追加する。\n",
    "\n",
    "まず、HTTPSのrepositoryからパッケージをインストールできるようにしておく。"
   ]
  },
  {
   "cell_type": "code",
   "execution_count": 11,
   "metadata": {
    "collapsed": false
   },
   "outputs": [
    {
     "name": "stdout",
     "output_type": "stream",
     "text": [
      "\u001b[0;32mXXX.XXX.XXX.66 | SUCCESS | rc=0 >>\r\n",
      "Hit http://security.ubuntu.com trusty-security InRelease\r\n",
      "Ign http://us.archive.ubuntu.com trusty InRelease\r\n",
      "Hit http://us.archive.ubuntu.com trusty-updates InRelease\r\n",
      "Hit http://security.ubuntu.com trusty-security/main Sources\r\n",
      "Hit http://us.archive.ubuntu.com trusty-backports InRelease\r\n",
      "Hit http://security.ubuntu.com trusty-security/restricted Sources\r\n",
      "Hit http://us.archive.ubuntu.com trusty Release.gpg\r\n",
      "Hit http://security.ubuntu.com trusty-security/universe Sources\r\n",
      "Hit http://us.archive.ubuntu.com trusty-updates/main Sources\r\n",
      "Hit http://security.ubuntu.com trusty-security/multiverse Sources\r\n",
      "Hit http://us.archive.ubuntu.com trusty-updates/restricted Sources\r\n",
      "Hit http://security.ubuntu.com trusty-security/main amd64 Packages\r\n",
      "Hit http://us.archive.ubuntu.com trusty-updates/universe Sources\r\n",
      "Hit http://security.ubuntu.com trusty-security/restricted amd64 Packages\r\n",
      "Hit http://us.archive.ubuntu.com trusty-updates/multiverse Sources\r\n",
      "Hit http://security.ubuntu.com trusty-security/universe amd64 Packages\r\n",
      "Hit http://us.archive.ubuntu.com trusty-updates/main amd64 Packages\r\n",
      "Hit http://security.ubuntu.com trusty-security/multiverse amd64 Packages\r\n",
      "Hit http://us.archive.ubuntu.com trusty-updates/restricted amd64 Packages\r\n",
      "Hit http://security.ubuntu.com trusty-security/main i386 Packages\r\n",
      "Hit http://us.archive.ubuntu.com trusty-updates/universe amd64 Packages\r\n",
      "Hit http://security.ubuntu.com trusty-security/restricted i386 Packages\r\n",
      "Hit http://us.archive.ubuntu.com trusty-updates/multiverse amd64 Packages\r\n",
      "Hit http://security.ubuntu.com trusty-security/universe i386 Packages\r\n",
      "Hit http://us.archive.ubuntu.com trusty-updates/main i386 Packages\r\n",
      "Hit http://security.ubuntu.com trusty-security/multiverse i386 Packages\r\n",
      "Hit http://us.archive.ubuntu.com trusty-updates/restricted i386 Packages\r\n",
      "Hit http://security.ubuntu.com trusty-security/main Translation-en\r\n",
      "Hit http://us.archive.ubuntu.com trusty-updates/universe i386 Packages\r\n",
      "Hit http://security.ubuntu.com trusty-security/multiverse Translation-en\r\n",
      "Hit http://us.archive.ubuntu.com trusty-updates/multiverse i386 Packages\r\n",
      "Hit http://security.ubuntu.com trusty-security/restricted Translation-en\r\n",
      "Hit http://security.ubuntu.com trusty-security/universe Translation-en\r\n",
      "Hit http://us.archive.ubuntu.com trusty-updates/main Translation-en\r\n",
      "Hit http://us.archive.ubuntu.com trusty-updates/multiverse Translation-en\r\n",
      "Hit http://us.archive.ubuntu.com trusty-updates/restricted Translation-en\r\n",
      "Hit http://us.archive.ubuntu.com trusty-updates/universe Translation-en\r\n",
      "Hit http://us.archive.ubuntu.com trusty-backports/main Sources\r\n",
      "Hit http://us.archive.ubuntu.com trusty-backports/restricted Sources\r\n",
      "Hit http://us.archive.ubuntu.com trusty-backports/universe Sources\r\n",
      "Hit http://us.archive.ubuntu.com trusty-backports/multiverse Sources\r\n",
      "Hit http://us.archive.ubuntu.com trusty-backports/main amd64 Packages\r\n",
      "Hit http://us.archive.ubuntu.com trusty-backports/restricted amd64 Packages\r\n",
      "Hit http://us.archive.ubuntu.com trusty-backports/universe amd64 Packages\r\n",
      "Hit http://us.archive.ubuntu.com trusty-backports/multiverse amd64 Packages\r\n",
      "Hit http://us.archive.ubuntu.com trusty-backports/main i386 Packages\r\n",
      "Hit http://us.archive.ubuntu.com trusty-backports/restricted i386 Packages\r\n",
      "Hit http://us.archive.ubuntu.com trusty-backports/universe i386 Packages\r\n",
      "Hit http://us.archive.ubuntu.com trusty-backports/multiverse i386 Packages\r\n",
      "Hit http://us.archive.ubuntu.com trusty-backports/main Translation-en\r\n",
      "Hit http://us.archive.ubuntu.com trusty-backports/multiverse Translation-en\r\n",
      "Hit http://us.archive.ubuntu.com trusty-backports/restricted Translation-en\r\n",
      "Hit http://us.archive.ubuntu.com trusty-backports/universe Translation-en\r\n",
      "Hit http://us.archive.ubuntu.com trusty Release\r\n",
      "Hit http://us.archive.ubuntu.com trusty/main Sources\r\n",
      "Hit http://us.archive.ubuntu.com trusty/restricted Sources\r\n",
      "Hit http://us.archive.ubuntu.com trusty/universe Sources\r\n",
      "Hit http://us.archive.ubuntu.com trusty/multiverse Sources\r\n",
      "Hit http://us.archive.ubuntu.com trusty/main amd64 Packages\r\n",
      "Hit http://us.archive.ubuntu.com trusty/restricted amd64 Packages\r\n",
      "Hit http://us.archive.ubuntu.com trusty/universe amd64 Packages\r\n",
      "Hit http://us.archive.ubuntu.com trusty/multiverse amd64 Packages\r\n",
      "Hit http://us.archive.ubuntu.com trusty/main i386 Packages\r\n",
      "Hit http://us.archive.ubuntu.com trusty/restricted i386 Packages\r\n",
      "Hit http://us.archive.ubuntu.com trusty/universe i386 Packages\r\n",
      "Hit http://us.archive.ubuntu.com trusty/multiverse i386 Packages\r\n",
      "Hit http://us.archive.ubuntu.com trusty/main Translation-en\r\n",
      "Hit http://us.archive.ubuntu.com trusty/multiverse Translation-en\r\n",
      "Hit http://us.archive.ubuntu.com trusty/restricted Translation-en\r\n",
      "Hit http://us.archive.ubuntu.com trusty/universe Translation-en\r\n",
      "Ign http://us.archive.ubuntu.com trusty/main Translation-en_US\r\n",
      "Ign http://us.archive.ubuntu.com trusty/multiverse Translation-en_US\r\n",
      "Ign http://us.archive.ubuntu.com trusty/restricted Translation-en_US\r\n",
      "Ign http://us.archive.ubuntu.com trusty/universe Translation-en_US\r\n",
      "Reading package lists...\r\n",
      "Reading package lists...\r\n",
      "Building dependency tree...\r\n",
      "Reading state information...\r\n",
      "apt-transport-https is already the newest version.\r\n",
      "ca-certificates is already the newest version.\r\n",
      "0 upgraded, 0 newly installed, 0 to remove and 0 not upgraded.\r\n",
      "\u001b[0m\r\n"
     ]
    }
   ],
   "source": [
    "!ansible -b -m shell -a 'apt-get update && \\\n",
    "                         apt-get install -y apt-transport-https ca-certificates' {target_group}"
   ]
  },
  {
   "cell_type": "markdown",
   "metadata": {},
   "source": [
    "GPG keyを追加しておく。"
   ]
  },
  {
   "cell_type": "code",
   "execution_count": 12,
   "metadata": {
    "ExecuteTime": {
     "end_time": "2016-05-13T07:42:57.805906",
     "start_time": "2016-05-13T07:42:54.891340"
    },
    "collapsed": false
   },
   "outputs": [
    {
     "name": "stdout",
     "output_type": "stream",
     "text": [
      "\u001b[0;32mXXX.XXX.XXX.66 | SUCCESS | rc=0 >>\r\n",
      "Executing: gpg --ignore-time-conflict --no-options --no-default-keyring --homedir /tmp/tmp.CLRwFhjYQl --no-auto-check-trustdb --trust-model always --keyring /etc/apt/trusted.gpg --primary-keyring /etc/apt/trusted.gpg --keyserver hkp://p80.pool.sks-keyservers.net:80 --recv-keys 58118E89F3A912897C070ADBF76221572C52609Dgpg: requesting key 2C52609D from hkp server p80.pool.sks-keyservers.net\r\n",
      "gpg: key 2C52609D: public key \"Docker Release Tool (releasedocker) <docker@docker.com>\" imported\r\n",
      "gpg: Total number processed: 1\r\n",
      "gpg:               imported: 1  (RSA: 1)\r\n",
      "\u001b[0m\r\n"
     ]
    }
   ],
   "source": [
    "!ansible -b -a 'apt-key adv \\\n",
    "                        --keyserver hkp://p80.pool.sks-keyservers.net:80 \\\n",
    "                        --recv-keys 58118E89F3A912897C070ADBF76221572C52609D' {target_group}"
   ]
  },
  {
   "cell_type": "markdown",
   "metadata": {},
   "source": [
    "Ubuntuのバージョンに応じたrepositoryのURLを追加する。このNotebookでは **14.04(Trusty)** を追加。"
   ]
  },
  {
   "cell_type": "code",
   "execution_count": 13,
   "metadata": {
    "ExecuteTime": {
     "end_time": "2016-05-13T07:42:59.626142",
     "start_time": "2016-05-13T07:42:58.411312"
    },
    "collapsed": false
   },
   "outputs": [
    {
     "name": "stdout",
     "output_type": "stream",
     "text": [
      "\u001b[0;32mXXX.XXX.XXX.66 | SUCCESS | rc=0 >>\r\n",
      "\r\n",
      "\u001b[0m\r\n"
     ]
    }
   ],
   "source": [
    "!ansible -b -m shell -a 'echo deb https://apt.dockerproject.org/repo ubuntu-trusty main \\\n",
    "                              > /etc/apt/sources.list.d/docker.list' {target_group}"
   ]
  },
  {
   "cell_type": "markdown",
   "metadata": {},
   "source": [
    "aptがrepositoryから情報を取得できているかの確認。"
   ]
  },
  {
   "cell_type": "code",
   "execution_count": 14,
   "metadata": {
    "ExecuteTime": {
     "end_time": "2016-05-13T07:43:20.018966",
     "start_time": "2016-05-13T07:42:59.663766"
    },
    "collapsed": false,
    "scrolled": true
   },
   "outputs": [
    {
     "name": "stdout",
     "output_type": "stream",
     "text": [
      "\u001b[0;32mXXX.XXX.XXX.66 | SUCCESS | rc=0 >>\r\n",
      "Ign http://us.archive.ubuntu.com trusty InRelease\r\n",
      "Hit http://security.ubuntu.com trusty-security InRelease\r\n",
      "Hit http://us.archive.ubuntu.com trusty-updates InRelease\r\n",
      "Get:1 https://apt.dockerproject.org ubuntu-trusty InRelease\r\n",
      "Get:2 https://apt.dockerproject.org ubuntu-trusty/main amd64 Packages\r\n",
      "Get:3 https://apt.dockerproject.org ubuntu-trusty/main i386 Packages\r\n",
      "Hit http://us.archive.ubuntu.com trusty-backports InRelease\r\n",
      "Hit http://security.ubuntu.com trusty-security/main Sources\r\n",
      "Hit http://us.archive.ubuntu.com trusty Release.gpg\r\n",
      "Get:4 https://apt.dockerproject.org ubuntu-trusty/main Translation-en_US\r\n",
      "Hit http://us.archive.ubuntu.com trusty-updates/main Sources\r\n",
      "Hit http://security.ubuntu.com trusty-security/restricted Sources\r\n",
      "Hit http://us.archive.ubuntu.com trusty-updates/restricted Sources\r\n",
      "Hit http://security.ubuntu.com trusty-security/universe Sources\r\n",
      "Hit http://us.archive.ubuntu.com trusty-updates/universe Sources\r\n",
      "Hit http://security.ubuntu.com trusty-security/multiverse Sources\r\n",
      "Hit http://us.archive.ubuntu.com trusty-updates/multiverse Sources\r\n",
      "Ign https://apt.dockerproject.org ubuntu-trusty/main Translation-en_US\r\n",
      "Ign https://apt.dockerproject.org ubuntu-trusty/main Translation-en\r\n",
      "Hit http://us.archive.ubuntu.com trusty-updates/main amd64 Packages\r\n",
      "Hit http://security.ubuntu.com trusty-security/main amd64 Packages\r\n",
      "Hit http://us.archive.ubuntu.com trusty-updates/restricted amd64 Packages\r\n",
      "Hit http://security.ubuntu.com trusty-security/restricted amd64 Packages\r\n",
      "Hit http://us.archive.ubuntu.com trusty-updates/universe amd64 Packages\r\n",
      "Hit http://us.archive.ubuntu.com trusty-updates/multiverse amd64 Packages\r\n",
      "Hit http://security.ubuntu.com trusty-security/universe amd64 Packages\r\n",
      "Hit http://us.archive.ubuntu.com trusty-updates/main i386 Packages\r\n",
      "Hit http://security.ubuntu.com trusty-security/multiverse amd64 Packages\r\n",
      "Hit http://us.archive.ubuntu.com trusty-updates/restricted i386 Packages\r\n",
      "Hit http://us.archive.ubuntu.com trusty-updates/universe i386 Packages\r\n",
      "Hit http://security.ubuntu.com trusty-security/main i386 Packages\r\n",
      "Hit http://us.archive.ubuntu.com trusty-updates/multiverse i386 Packages\r\n",
      "Hit http://security.ubuntu.com trusty-security/restricted i386 Packages\r\n",
      "Hit http://us.archive.ubuntu.com trusty-updates/main Translation-en\r\n",
      "Hit http://us.archive.ubuntu.com trusty-updates/multiverse Translation-en\r\n",
      "Hit http://security.ubuntu.com trusty-security/universe i386 Packages\r\n",
      "Hit http://security.ubuntu.com trusty-security/multiverse i386 Packages\r\n",
      "Hit http://us.archive.ubuntu.com trusty-updates/restricted Translation-en\r\n",
      "Hit http://security.ubuntu.com trusty-security/main Translation-en\r\n",
      "Hit http://us.archive.ubuntu.com trusty-updates/universe Translation-en\r\n",
      "Hit http://us.archive.ubuntu.com trusty-backports/main Sources\r\n",
      "Hit http://security.ubuntu.com trusty-security/multiverse Translation-en\r\n",
      "Hit http://us.archive.ubuntu.com trusty-backports/restricted Sources\r\n",
      "Hit http://security.ubuntu.com trusty-security/restricted Translation-en\r\n",
      "Hit http://us.archive.ubuntu.com trusty-backports/universe Sources\r\n",
      "Hit http://us.archive.ubuntu.com trusty-backports/multiverse Sources\r\n",
      "Hit http://security.ubuntu.com trusty-security/universe Translation-en\r\n",
      "Hit http://us.archive.ubuntu.com trusty-backports/main amd64 Packages\r\n",
      "Hit http://us.archive.ubuntu.com trusty-backports/restricted amd64 Packages\r\n",
      "Hit http://us.archive.ubuntu.com trusty-backports/universe amd64 Packages\r\n",
      "Hit http://us.archive.ubuntu.com trusty-backports/multiverse amd64 Packages\r\n",
      "Hit http://us.archive.ubuntu.com trusty-backports/main i386 Packages\r\n",
      "Hit http://us.archive.ubuntu.com trusty-backports/restricted i386 Packages\r\n",
      "Hit http://us.archive.ubuntu.com trusty-backports/universe i386 Packages\r\n",
      "Hit http://us.archive.ubuntu.com trusty-backports/multiverse i386 Packages\r\n",
      "Hit http://us.archive.ubuntu.com trusty-backports/main Translation-en\r\n",
      "Hit http://us.archive.ubuntu.com trusty-backports/multiverse Translation-en\r\n",
      "Hit http://us.archive.ubuntu.com trusty-backports/restricted Translation-en\r\n",
      "Hit http://us.archive.ubuntu.com trusty-backports/universe Translation-en\r\n",
      "Hit http://us.archive.ubuntu.com trusty Release\r\n",
      "Hit http://us.archive.ubuntu.com trusty/main Sources\r\n",
      "Hit http://us.archive.ubuntu.com trusty/restricted Sources\r\n",
      "Hit http://us.archive.ubuntu.com trusty/universe Sources\r\n",
      "Hit http://us.archive.ubuntu.com trusty/multiverse Sources\r\n",
      "Hit http://us.archive.ubuntu.com trusty/main amd64 Packages\r\n",
      "Hit http://us.archive.ubuntu.com trusty/restricted amd64 Packages\r\n",
      "Hit http://us.archive.ubuntu.com trusty/universe amd64 Packages\r\n",
      "Hit http://us.archive.ubuntu.com trusty/multiverse amd64 Packages\r\n",
      "Hit http://us.archive.ubuntu.com trusty/main i386 Packages\r\n",
      "Hit http://us.archive.ubuntu.com trusty/restricted i386 Packages\r\n",
      "Hit http://us.archive.ubuntu.com trusty/universe i386 Packages\r\n",
      "Hit http://us.archive.ubuntu.com trusty/multiverse i386 Packages\r\n",
      "Hit http://us.archive.ubuntu.com trusty/main Translation-en\r\n",
      "Hit http://us.archive.ubuntu.com trusty/multiverse Translation-en\r\n",
      "Hit http://us.archive.ubuntu.com trusty/restricted Translation-en\r\n",
      "Hit http://us.archive.ubuntu.com trusty/universe Translation-en\r\n",
      "Ign http://us.archive.ubuntu.com trusty/main Translation-en_US\r\n",
      "Ign http://us.archive.ubuntu.com trusty/multiverse Translation-en_US\r\n",
      "Ign http://us.archive.ubuntu.com trusty/restricted Translation-en_US\r\n",
      "Ign http://us.archive.ubuntu.com trusty/universe Translation-en_US\r\n",
      "Fetched 25.6 kB in 13s (1,945 B/s)\r\n",
      "Reading package lists...\r\n",
      "docker-engine:\r\n",
      "  Installed: (none)\r\n",
      "  Candidate: 1.11.2-0~trusty\r\n",
      "  Version table:\r\n",
      "     1.11.2-0~trusty 0\r\n",
      "        500 https://apt.dockerproject.org/repo/ ubuntu-trusty/main amd64 Packages\r\n",
      "     1.11.1-0~trusty 0\r\n",
      "        500 https://apt.dockerproject.org/repo/ ubuntu-trusty/main amd64 Packages\r\n",
      "     1.11.0-0~trusty 0\r\n",
      "        500 https://apt.dockerproject.org/repo/ ubuntu-trusty/main amd64 Packages\r\n",
      "     1.10.3-0~trusty 0\r\n",
      "        500 https://apt.dockerproject.org/repo/ ubuntu-trusty/main amd64 Packages\r\n",
      "     1.10.2-0~trusty 0\r\n",
      "        500 https://apt.dockerproject.org/repo/ ubuntu-trusty/main amd64 Packages\r\n",
      "     1.10.1-0~trusty 0\r\n",
      "        500 https://apt.dockerproject.org/repo/ ubuntu-trusty/main amd64 Packages\r\n",
      "     1.10.0-0~trusty 0\r\n",
      "        500 https://apt.dockerproject.org/repo/ ubuntu-trusty/main amd64 Packages\r\n",
      "     1.9.1-0~trusty 0\r\n",
      "        500 https://apt.dockerproject.org/repo/ ubuntu-trusty/main amd64 Packages\r\n",
      "     1.9.0-0~trusty 0\r\n",
      "        500 https://apt.dockerproject.org/repo/ ubuntu-trusty/main amd64 Packages\r\n",
      "     1.8.3-0~trusty 0\r\n",
      "        500 https://apt.dockerproject.org/repo/ ubuntu-trusty/main amd64 Packages\r\n",
      "     1.8.2-0~trusty 0\r\n",
      "        500 https://apt.dockerproject.org/repo/ ubuntu-trusty/main amd64 Packages\r\n",
      "     1.8.1-0~trusty 0\r\n",
      "        500 https://apt.dockerproject.org/repo/ ubuntu-trusty/main amd64 Packages\r\n",
      "     1.8.0-0~trusty 0\r\n",
      "        500 https://apt.dockerproject.org/repo/ ubuntu-trusty/main amd64 Packages\r\n",
      "     1.7.1-0~trusty 0\r\n",
      "        500 https://apt.dockerproject.org/repo/ ubuntu-trusty/main amd64 Packages\r\n",
      "     1.7.0-0~trusty 0\r\n",
      "        500 https://apt.dockerproject.org/repo/ ubuntu-trusty/main amd64 Packages\r\n",
      "     1.6.2-0~trusty 0\r\n",
      "        500 https://apt.dockerproject.org/repo/ ubuntu-trusty/main amd64 Packages\r\n",
      "     1.6.1-0~trusty 0\r\n",
      "        500 https://apt.dockerproject.org/repo/ ubuntu-trusty/main amd64 Packages\r\n",
      "     1.6.0-0~trusty 0\r\n",
      "        500 https://apt.dockerproject.org/repo/ ubuntu-trusty/main amd64 Packages\r\n",
      "     1.5.0-0~trusty 0\r\n",
      "        500 https://apt.dockerproject.org/repo/ ubuntu-trusty/main amd64 Packages\r\n",
      "\u001b[0m\r\n"
     ]
    }
   ],
   "source": [
    "!ansible -b -m shell -a 'apt-get update && \\\n",
    "                         apt-cache policy docker-engine' {target_group}"
   ]
  },
  {
   "cell_type": "markdown",
   "metadata": {},
   "source": [
    "## aufs storage driverを利用可能に\n",
    "\n",
    "Ubuntu 14.04の場合、`linux-image-extra` パッケージのインストールが推奨されている。"
   ]
  },
  {
   "cell_type": "code",
   "execution_count": 15,
   "metadata": {
    "collapsed": false,
    "scrolled": true
   },
   "outputs": [
    {
     "name": "stdout",
     "output_type": "stream",
     "text": [
      "\u001b[0;32mXXX.XXX.XXX.66 | SUCCESS | rc=0 >>\r\n",
      "Hit http://security.ubuntu.com trusty-security InRelease\r\n",
      "Ign http://us.archive.ubuntu.com trusty InRelease\r\n",
      "Hit https://apt.dockerproject.org ubuntu-trusty InRelease\r\n",
      "Hit https://apt.dockerproject.org ubuntu-trusty/main amd64 Packages\r\n",
      "Hit https://apt.dockerproject.org ubuntu-trusty/main i386 Packages\r\n",
      "Get:1 https://apt.dockerproject.org ubuntu-trusty/main Translation-en_US\r\n",
      "Ign https://apt.dockerproject.org ubuntu-trusty/main Translation-en_US\r\n",
      "Ign https://apt.dockerproject.org ubuntu-trusty/main Translation-en\r\n",
      "Hit http://us.archive.ubuntu.com trusty-updates InRelease\r\n",
      "Hit http://security.ubuntu.com trusty-security/main Sources\r\n",
      "Hit http://us.archive.ubuntu.com trusty-backports InRelease\r\n",
      "Hit http://security.ubuntu.com trusty-security/restricted Sources\r\n",
      "Hit http://us.archive.ubuntu.com trusty Release.gpg\r\n",
      "Hit http://security.ubuntu.com trusty-security/universe Sources\r\n",
      "Hit http://us.archive.ubuntu.com trusty-updates/main Sources\r\n",
      "Hit http://security.ubuntu.com trusty-security/multiverse Sources\r\n",
      "Hit http://us.archive.ubuntu.com trusty-updates/restricted Sources\r\n",
      "Hit http://security.ubuntu.com trusty-security/main amd64 Packages\r\n",
      "Hit http://us.archive.ubuntu.com trusty-updates/universe Sources\r\n",
      "Hit http://security.ubuntu.com trusty-security/restricted amd64 Packages\r\n",
      "Hit http://us.archive.ubuntu.com trusty-updates/multiverse Sources\r\n",
      "Hit http://security.ubuntu.com trusty-security/universe amd64 Packages\r\n",
      "Hit http://us.archive.ubuntu.com trusty-updates/main amd64 Packages\r\n",
      "Hit http://security.ubuntu.com trusty-security/multiverse amd64 Packages\r\n",
      "Hit http://us.archive.ubuntu.com trusty-updates/restricted amd64 Packages\r\n",
      "Hit http://security.ubuntu.com trusty-security/main i386 Packages\r\n",
      "Hit http://us.archive.ubuntu.com trusty-updates/universe amd64 Packages\r\n",
      "Hit http://security.ubuntu.com trusty-security/restricted i386 Packages\r\n",
      "Hit http://us.archive.ubuntu.com trusty-updates/multiverse amd64 Packages\r\n",
      "Hit http://security.ubuntu.com trusty-security/universe i386 Packages\r\n",
      "Hit http://us.archive.ubuntu.com trusty-updates/main i386 Packages\r\n",
      "Hit http://security.ubuntu.com trusty-security/multiverse i386 Packages\r\n",
      "Hit http://us.archive.ubuntu.com trusty-updates/restricted i386 Packages\r\n",
      "Hit http://security.ubuntu.com trusty-security/main Translation-en\r\n",
      "Hit http://us.archive.ubuntu.com trusty-updates/universe i386 Packages\r\n",
      "Hit http://security.ubuntu.com trusty-security/multiverse Translation-en\r\n",
      "Hit http://us.archive.ubuntu.com trusty-updates/multiverse i386 Packages\r\n",
      "Hit http://security.ubuntu.com trusty-security/restricted Translation-en\r\n",
      "Hit http://us.archive.ubuntu.com trusty-updates/main Translation-en\r\n",
      "Hit http://security.ubuntu.com trusty-security/universe Translation-en\r\n",
      "Hit http://us.archive.ubuntu.com trusty-updates/multiverse Translation-en\r\n",
      "Hit http://us.archive.ubuntu.com trusty-updates/restricted Translation-en\r\n",
      "Hit http://us.archive.ubuntu.com trusty-updates/universe Translation-en\r\n",
      "Hit http://us.archive.ubuntu.com trusty-backports/main Sources\r\n",
      "Hit http://us.archive.ubuntu.com trusty-backports/restricted Sources\r\n",
      "Hit http://us.archive.ubuntu.com trusty-backports/universe Sources\r\n",
      "Hit http://us.archive.ubuntu.com trusty-backports/multiverse Sources\r\n",
      "Hit http://us.archive.ubuntu.com trusty-backports/main amd64 Packages\r\n",
      "Hit http://us.archive.ubuntu.com trusty-backports/restricted amd64 Packages\r\n",
      "Hit http://us.archive.ubuntu.com trusty-backports/universe amd64 Packages\r\n",
      "Hit http://us.archive.ubuntu.com trusty-backports/multiverse amd64 Packages\r\n",
      "Hit http://us.archive.ubuntu.com trusty-backports/main i386 Packages\r\n",
      "Hit http://us.archive.ubuntu.com trusty-backports/restricted i386 Packages\r\n",
      "Hit http://us.archive.ubuntu.com trusty-backports/universe i386 Packages\r\n",
      "Hit http://us.archive.ubuntu.com trusty-backports/multiverse i386 Packages\r\n",
      "Hit http://us.archive.ubuntu.com trusty-backports/main Translation-en\r\n",
      "Hit http://us.archive.ubuntu.com trusty-backports/multiverse Translation-en\r\n",
      "Hit http://us.archive.ubuntu.com trusty-backports/restricted Translation-en\r\n",
      "Hit http://us.archive.ubuntu.com trusty-backports/universe Translation-en\r\n",
      "Hit http://us.archive.ubuntu.com trusty Release\r\n",
      "Hit http://us.archive.ubuntu.com trusty/main Sources\r\n",
      "Hit http://us.archive.ubuntu.com trusty/restricted Sources\r\n",
      "Hit http://us.archive.ubuntu.com trusty/universe Sources\r\n",
      "Hit http://us.archive.ubuntu.com trusty/multiverse Sources\r\n",
      "Hit http://us.archive.ubuntu.com trusty/main amd64 Packages\r\n",
      "Hit http://us.archive.ubuntu.com trusty/restricted amd64 Packages\r\n",
      "Hit http://us.archive.ubuntu.com trusty/universe amd64 Packages\r\n",
      "Hit http://us.archive.ubuntu.com trusty/multiverse amd64 Packages\r\n",
      "Hit http://us.archive.ubuntu.com trusty/main i386 Packages\r\n",
      "Hit http://us.archive.ubuntu.com trusty/restricted i386 Packages\r\n",
      "Hit http://us.archive.ubuntu.com trusty/universe i386 Packages\r\n",
      "Hit http://us.archive.ubuntu.com trusty/multiverse i386 Packages\r\n",
      "Hit http://us.archive.ubuntu.com trusty/main Translation-en\r\n",
      "Hit http://us.archive.ubuntu.com trusty/multiverse Translation-en\r\n",
      "Hit http://us.archive.ubuntu.com trusty/restricted Translation-en\r\n",
      "Hit http://us.archive.ubuntu.com trusty/universe Translation-en\r\n",
      "Ign http://us.archive.ubuntu.com trusty/main Translation-en_US\r\n",
      "Ign http://us.archive.ubuntu.com trusty/multiverse Translation-en_US\r\n",
      "Ign http://us.archive.ubuntu.com trusty/restricted Translation-en_US\r\n",
      "Ign http://us.archive.ubuntu.com trusty/universe Translation-en_US\r\n",
      "Reading package lists...\r\n",
      "Reading package lists...\r\n",
      "Building dependency tree...\r\n",
      "Reading state information...\r\n",
      "linux-image-extra-3.13.0-88-generic is already the newest version.\r\n",
      "linux-image-extra-3.13.0-88-generic set to manually installed.\r\n",
      "0 upgraded, 0 newly installed, 0 to remove and 0 not upgraded.\r\n",
      "\u001b[0m\r\n"
     ]
    }
   ],
   "source": [
    "!ansible -b -m shell -a 'apt-get update && \\\n",
    "                         apt-get install -y linux-image-extra-$(uname -r)' {target_group}"
   ]
  },
  {
   "cell_type": "markdown",
   "metadata": {},
   "source": [
    "## apparmorのインストール\n",
    "\n",
    "apparmorもrequiredとなっているので、インストールしておく。"
   ]
  },
  {
   "cell_type": "code",
   "execution_count": 16,
   "metadata": {
    "collapsed": false
   },
   "outputs": [
    {
     "name": "stdout",
     "output_type": "stream",
     "text": [
      "\u001b[0;32mXXX.XXX.XXX.66 | SUCCESS | rc=0 >>\r\n",
      "Reading package lists...\r\n",
      "Building dependency tree...\r\n",
      "Reading state information...\r\n",
      "apparmor is already the newest version.\r\n",
      "0 upgraded, 0 newly installed, 0 to remove and 0 not upgraded.\r\n",
      "\u001b[0m\r\n"
     ]
    }
   ],
   "source": [
    "!ansible -b -a 'apt-get install -y apparmor' {target_group}"
   ]
  },
  {
   "cell_type": "markdown",
   "metadata": {},
   "source": [
    "## パッケージのインストール\n",
    "\n",
    "`docker-engine` パッケージをインストールする。"
   ]
  },
  {
   "cell_type": "code",
   "execution_count": 17,
   "metadata": {
    "ExecuteTime": {
     "end_time": "2016-05-13T07:43:48.131696",
     "start_time": "2016-05-13T07:43:29.201543"
    },
    "collapsed": false,
    "scrolled": true
   },
   "outputs": [
    {
     "name": "stdout",
     "output_type": "stream",
     "text": [
      "\u001b[0;32mXXX.XXX.XXX.66 | SUCCESS | rc=0 >>\r\n",
      "Ign http://us.archive.ubuntu.com trusty InRelease\r\n",
      "Hit https://apt.dockerproject.org ubuntu-trusty InRelease\r\n",
      "Hit http://security.ubuntu.com trusty-security InRelease\r\n",
      "Hit https://apt.dockerproject.org ubuntu-trusty/main amd64 Packages\r\n",
      "Hit https://apt.dockerproject.org ubuntu-trusty/main i386 Packages\r\n",
      "Get:1 https://apt.dockerproject.org ubuntu-trusty/main Translation-en_US\r\n",
      "Hit http://us.archive.ubuntu.com trusty-updates InRelease\r\n",
      "Ign https://apt.dockerproject.org ubuntu-trusty/main Translation-en_US\r\n",
      "Ign https://apt.dockerproject.org ubuntu-trusty/main Translation-en\r\n",
      "Hit http://us.archive.ubuntu.com trusty-backports InRelease\r\n",
      "Hit http://security.ubuntu.com trusty-security/main Sources\r\n",
      "Hit http://us.archive.ubuntu.com trusty Release.gpg\r\n",
      "Hit http://security.ubuntu.com trusty-security/restricted Sources\r\n",
      "Hit http://us.archive.ubuntu.com trusty-updates/main Sources\r\n",
      "Hit http://security.ubuntu.com trusty-security/universe Sources\r\n",
      "Hit http://us.archive.ubuntu.com trusty-updates/restricted Sources\r\n",
      "Hit http://us.archive.ubuntu.com trusty-updates/universe Sources\r\n",
      "Hit http://security.ubuntu.com trusty-security/multiverse Sources\r\n",
      "Hit http://us.archive.ubuntu.com trusty-updates/multiverse Sources\r\n",
      "Hit http://security.ubuntu.com trusty-security/main amd64 Packages\r\n",
      "Hit http://us.archive.ubuntu.com trusty-updates/main amd64 Packages\r\n",
      "Hit http://security.ubuntu.com trusty-security/restricted amd64 Packages\r\n",
      "Hit http://us.archive.ubuntu.com trusty-updates/restricted amd64 Packages\r\n",
      "Hit http://security.ubuntu.com trusty-security/universe amd64 Packages\r\n",
      "Hit http://us.archive.ubuntu.com trusty-updates/universe amd64 Packages\r\n",
      "Hit http://us.archive.ubuntu.com trusty-updates/multiverse amd64 Packages\r\n",
      "Hit http://security.ubuntu.com trusty-security/multiverse amd64 Packages\r\n",
      "Hit http://us.archive.ubuntu.com trusty-updates/main i386 Packages\r\n",
      "Hit http://security.ubuntu.com trusty-security/main i386 Packages\r\n",
      "Hit http://us.archive.ubuntu.com trusty-updates/restricted i386 Packages\r\n",
      "Hit http://security.ubuntu.com trusty-security/restricted i386 Packages\r\n",
      "Hit http://us.archive.ubuntu.com trusty-updates/universe i386 Packages\r\n",
      "Hit http://us.archive.ubuntu.com trusty-updates/multiverse i386 Packages\r\n",
      "Hit http://security.ubuntu.com trusty-security/universe i386 Packages\r\n",
      "Hit http://us.archive.ubuntu.com trusty-updates/main Translation-en\r\n",
      "Hit http://security.ubuntu.com trusty-security/multiverse i386 Packages\r\n",
      "Hit http://us.archive.ubuntu.com trusty-updates/multiverse Translation-en\r\n",
      "Hit http://security.ubuntu.com trusty-security/main Translation-en\r\n",
      "Hit http://security.ubuntu.com trusty-security/multiverse Translation-en\r\n",
      "Hit http://us.archive.ubuntu.com trusty-updates/restricted Translation-en\r\n",
      "Hit http://us.archive.ubuntu.com trusty-updates/universe Translation-en\r\n",
      "Hit http://security.ubuntu.com trusty-security/restricted Translation-en\r\n",
      "Hit http://us.archive.ubuntu.com trusty-backports/main Sources\r\n",
      "Hit http://security.ubuntu.com trusty-security/universe Translation-en\r\n",
      "Hit http://us.archive.ubuntu.com trusty-backports/restricted Sources\r\n",
      "Hit http://us.archive.ubuntu.com trusty-backports/universe Sources\r\n",
      "Hit http://us.archive.ubuntu.com trusty-backports/multiverse Sources\r\n",
      "Hit http://us.archive.ubuntu.com trusty-backports/main amd64 Packages\r\n",
      "Hit http://us.archive.ubuntu.com trusty-backports/restricted amd64 Packages\r\n",
      "Hit http://us.archive.ubuntu.com trusty-backports/universe amd64 Packages\r\n",
      "Hit http://us.archive.ubuntu.com trusty-backports/multiverse amd64 Packages\r\n",
      "Hit http://us.archive.ubuntu.com trusty-backports/main i386 Packages\r\n",
      "Hit http://us.archive.ubuntu.com trusty-backports/restricted i386 Packages\r\n",
      "Hit http://us.archive.ubuntu.com trusty-backports/universe i386 Packages\r\n",
      "Hit http://us.archive.ubuntu.com trusty-backports/multiverse i386 Packages\r\n",
      "Hit http://us.archive.ubuntu.com trusty-backports/main Translation-en\r\n",
      "Hit http://us.archive.ubuntu.com trusty-backports/multiverse Translation-en\r\n",
      "Hit http://us.archive.ubuntu.com trusty-backports/restricted Translation-en\r\n",
      "Hit http://us.archive.ubuntu.com trusty-backports/universe Translation-en\r\n",
      "Hit http://us.archive.ubuntu.com trusty Release\r\n",
      "Hit http://us.archive.ubuntu.com trusty/main Sources\r\n",
      "Hit http://us.archive.ubuntu.com trusty/restricted Sources\r\n",
      "Hit http://us.archive.ubuntu.com trusty/universe Sources\r\n",
      "Hit http://us.archive.ubuntu.com trusty/multiverse Sources\r\n",
      "Hit http://us.archive.ubuntu.com trusty/main amd64 Packages\r\n",
      "Hit http://us.archive.ubuntu.com trusty/restricted amd64 Packages\r\n",
      "Hit http://us.archive.ubuntu.com trusty/universe amd64 Packages\r\n",
      "Hit http://us.archive.ubuntu.com trusty/multiverse amd64 Packages\r\n",
      "Hit http://us.archive.ubuntu.com trusty/main i386 Packages\r\n",
      "Hit http://us.archive.ubuntu.com trusty/restricted i386 Packages\r\n",
      "Hit http://us.archive.ubuntu.com trusty/universe i386 Packages\r\n",
      "Hit http://us.archive.ubuntu.com trusty/multiverse i386 Packages\r\n",
      "Hit http://us.archive.ubuntu.com trusty/main Translation-en\r\n",
      "Hit http://us.archive.ubuntu.com trusty/multiverse Translation-en\r\n",
      "Hit http://us.archive.ubuntu.com trusty/restricted Translation-en\r\n",
      "Hit http://us.archive.ubuntu.com trusty/universe Translation-en\r\n",
      "Ign http://us.archive.ubuntu.com trusty/main Translation-en_US\r\n",
      "Ign http://us.archive.ubuntu.com trusty/multiverse Translation-en_US\r\n",
      "Ign http://us.archive.ubuntu.com trusty/restricted Translation-en_US\r\n",
      "Ign http://us.archive.ubuntu.com trusty/universe Translation-en_US\r\n",
      "Reading package lists...\r\n",
      "Reading package lists...\r\n",
      "Building dependency tree...\r\n",
      "Reading state information...\r\n",
      "The following extra packages will be installed:\r\n",
      "  aufs-tools cgroup-lite git git-man liberror-perl libltdl7\r\n",
      "  libsystemd-journal0 patch\r\n",
      "Suggested packages:\r\n",
      "  git-daemon-run git-daemon-sysvinit git-doc git-el git-email git-gui gitk\r\n",
      "  gitweb git-arch git-bzr git-cvs git-mediawiki git-svn diffutils-doc\r\n",
      "The following NEW packages will be installed:\r\n",
      "  aufs-tools cgroup-lite docker-engine git git-man liberror-perl libltdl7\r\n",
      "  libsystemd-journal0 patch\r\n",
      "0 upgraded, 9 newly installed, 0 to remove and 0 not upgraded.\r\n",
      "Need to get 18.0 MB of archives.\r\n",
      "After this operation, 96.2 MB of additional disk space will be used.\r\n",
      "Get:1 http://us.archive.ubuntu.com/ubuntu/ trusty/main libltdl7 amd64 2.4.2-1.7ubuntu1 [35.0 kB]\r\n",
      "Get:2 https://apt.dockerproject.org/repo/ ubuntu-trusty/main docker-engine amd64 1.11.2-0~trusty [14.4 MB]\r\n",
      "Get:3 http://us.archive.ubuntu.com/ubuntu/ trusty-updates/main libsystemd-journal0 amd64 204-5ubuntu20.19 [50.1 kB]\r\n",
      "Get:4 http://us.archive.ubuntu.com/ubuntu/ trusty/universe aufs-tools amd64 1:3.2+20130722-1.1 [92.3 kB]\r\n",
      "Get:5 http://us.archive.ubuntu.com/ubuntu/ trusty/main liberror-perl all 0.17-1.1 [21.1 kB]\r\n",
      "Get:6 http://us.archive.ubuntu.com/ubuntu/ trusty-updates/main git-man all 1:1.9.1-1ubuntu0.3 [699 kB]\r\n",
      "Get:7 http://us.archive.ubuntu.com/ubuntu/ trusty-updates/main git amd64 1:1.9.1-1ubuntu0.3 [2,586 kB]\r\n",
      "Get:8 http://us.archive.ubuntu.com/ubuntu/ trusty-updates/main patch amd64 2.7.1-4ubuntu2.3 [86.4 kB]\r\n",
      "Get:9 http://us.archive.ubuntu.com/ubuntu/ trusty/main cgroup-lite all 1.9 [3,918 B]\r\n",
      "Fetched 18.0 MB in 9s (1,802 kB/s)\r\n",
      "Selecting previously unselected package libltdl7:amd64.\r\n",
      "(Reading database ... 54863 files and directories currently installed.)\r\n",
      "Preparing to unpack .../libltdl7_2.4.2-1.7ubuntu1_amd64.deb ...\r\n",
      "Unpacking libltdl7:amd64 (2.4.2-1.7ubuntu1) ...\r\n",
      "Selecting previously unselected package libsystemd-journal0:amd64.\r\n",
      "Preparing to unpack .../libsystemd-journal0_204-5ubuntu20.19_amd64.deb ...\r\n",
      "Unpacking libsystemd-journal0:amd64 (204-5ubuntu20.19) ...\r\n",
      "Selecting previously unselected package aufs-tools.\r\n",
      "Preparing to unpack .../aufs-tools_1%3a3.2+20130722-1.1_amd64.deb ...\r\n",
      "Unpacking aufs-tools (1:3.2+20130722-1.1) ...\r\n",
      "Selecting previously unselected package docker-engine.\r\n",
      "Preparing to unpack .../docker-engine_1.11.2-0~trusty_amd64.deb ...\r\n",
      "Unpacking docker-engine (1.11.2-0~trusty) ...\r\n",
      "Selecting previously unselected package liberror-perl.\r\n",
      "Preparing to unpack .../liberror-perl_0.17-1.1_all.deb ...\r\n",
      "Unpacking liberror-perl (0.17-1.1) ...\r\n",
      "Selecting previously unselected package git-man.\r\n",
      "Preparing to unpack .../git-man_1%3a1.9.1-1ubuntu0.3_all.deb ...\r\n",
      "Unpacking git-man (1:1.9.1-1ubuntu0.3) ...\r\n",
      "Selecting previously unselected package git.\r\n",
      "Preparing to unpack .../git_1%3a1.9.1-1ubuntu0.3_amd64.deb ...\r\n",
      "Unpacking git (1:1.9.1-1ubuntu0.3) ...\r\n",
      "Selecting previously unselected package patch.\r\n",
      "Preparing to unpack .../patch_2.7.1-4ubuntu2.3_amd64.deb ...\r\n",
      "Unpacking patch (2.7.1-4ubuntu2.3) ...\r\n",
      "Selecting previously unselected package cgroup-lite.\r\n",
      "Preparing to unpack .../cgroup-lite_1.9_all.deb ...\r\n",
      "Unpacking cgroup-lite (1.9) ...\r\n",
      "Processing triggers for man-db (XXX.XXX.XXX.1-1ubuntu1) ...\r\n",
      "Processing triggers for ureadahead (0.100.0-16) ...\r\n",
      "ureadahead will be reprofiled on next reboot\r\n",
      "Setting up libltdl7:amd64 (2.4.2-1.7ubuntu1) ...\r\n",
      "Setting up libsystemd-journal0:amd64 (204-5ubuntu20.19) ...\r\n",
      "Setting up aufs-tools (1:3.2+20130722-1.1) ...\r\n",
      "Setting up docker-engine (1.11.2-0~trusty) ...\r\n",
      "docker start/running, process 3330\r\n",
      "Setting up liberror-perl (0.17-1.1) ...\r\n",
      "Setting up git-man (1:1.9.1-1ubuntu0.3) ...\r\n",
      "Setting up git (1:1.9.1-1ubuntu0.3) ...\r\n",
      "Setting up patch (2.7.1-4ubuntu2.3) ...\r\n",
      "Setting up cgroup-lite (1.9) ...\r\n",
      "cgroup-lite start/running\r\n",
      "Processing triggers for libc-bin (2.19-0ubuntu6.9) ...\r\n",
      "Processing triggers for ureadahead (0.100.0-16) ...\r\n",
      "\u001b[0m\r\n"
     ]
    }
   ],
   "source": [
    "!ansible -b -m shell -a 'apt-get update && \\\n",
    "                         apt-get install -y docker-engine' {target_group}"
   ]
  },
  {
   "cell_type": "markdown",
   "metadata": {},
   "source": [
    "## Docker Engineの設定変更\n",
    "\n",
    "あらかじめ定義した設定情報にしたがい、Docker Engineに与えるDefault Configを指定する。"
   ]
  },
  {
   "cell_type": "code",
   "execution_count": 18,
   "metadata": {
    "ExecuteTime": {
     "end_time": "2016-05-13T07:43:51.747443",
     "start_time": "2016-05-13T07:43:51.727326"
    },
    "collapsed": false
   },
   "outputs": [
    {
     "data": {
      "text/plain": [
       "'/tmp/tmppOH4Qq'"
      ]
     },
     "execution_count": 18,
     "metadata": {},
     "output_type": "execute_result"
    }
   ],
   "source": [
    "import tempfile\n",
    "temp_dir = tempfile.mkdtemp()\n",
    "temp_dir"
   ]
  },
  {
   "cell_type": "code",
   "execution_count": 19,
   "metadata": {
    "ExecuteTime": {
     "end_time": "2016-05-13T07:43:52.597534",
     "start_time": "2016-05-13T07:43:52.588248"
    },
    "collapsed": false
   },
   "outputs": [
    {
     "name": "stdout",
     "output_type": "stream",
     "text": [
      "# Docker Upstart and SysVinit configuration file\r\n",
      "\r\n",
      "export TMPDIR=\"/mnt/docker-tmp\"\r\n",
      "DOCKER_OPTS=\"-g /mnt/docker --insecure-registry XXX.XXX.XXX.93:5000\""
     ]
    }
   ],
   "source": [
    "import os\n",
    "with open(os.path.join(temp_dir, 'docker_config'), 'w') as f:\n",
    "    f.write('''# Docker Upstart and SysVinit configuration file\n",
    "\n",
    "export TMPDIR=\"{docker_tmp}\"\n",
    "DOCKER_OPTS=\"{docker_opts}\"'''.format(docker_tmp=docker_tmp, docker_opts=docker_opts))\n",
    "!cat {temp_dir}/docker_config"
   ]
  },
  {
   "cell_type": "markdown",
   "metadata": {},
   "source": [
    "ローカルに作った configファイル を、Bind対象の/etc/default/dockerにコピーし、Docker Engineに反映する。"
   ]
  },
  {
   "cell_type": "code",
   "execution_count": 20,
   "metadata": {
    "ExecuteTime": {
     "end_time": "2016-05-13T07:43:58.155342",
     "start_time": "2016-05-13T07:43:53.334780"
    },
    "collapsed": false,
    "scrolled": true
   },
   "outputs": [
    {
     "name": "stdout",
     "output_type": "stream",
     "text": [
      "\u001b[0;33mXXX.XXX.XXX.66 | SUCCESS => {\n",
      "    \"changed\": true, \n",
      "    \"checksum\": \"4995e08c9844f9944b9449c0c6b771bb9694b7ec\", \n",
      "    \"dest\": \"/etc/default/docker\", \n",
      "    \"gid\": 0, \n",
      "    \"group\": \"root\", \n",
      "    \"md5sum\": \"ddcb1600fc8c55d04e1afc73d58257d9\", \n",
      "    \"mode\": \"0644\", \n",
      "    \"owner\": \"root\", \n",
      "    \"size\": 148, \n",
      "    \"src\": \"/home/ansible/.ansible/tmp/ansible-tmp-1466171605.71-252050334803597/source\", \n",
      "    \"state\": \"file\", \n",
      "    \"uid\": 0\n",
      "}\u001b[0m\n",
      "\u001b[0;33mXXX.XXX.XXX.66 | SUCCESS => {\n",
      "    \"changed\": true, \n",
      "    \"gid\": 0, \n",
      "    \"group\": \"root\", \n",
      "    \"mode\": \"0755\", \n",
      "    \"owner\": \"root\", \n",
      "    \"path\": \"/mnt/docker-tmp\", \n",
      "    \"size\": 4096, \n",
      "    \"state\": \"directory\", \n",
      "    \"uid\": 0\n",
      "}\u001b[0m\n",
      "\u001b[0;33mXXX.XXX.XXX.66 | SUCCESS => {\n",
      "    \"changed\": true, \n",
      "    \"name\": \"docker\", \n",
      "    \"state\": \"started\"\n",
      "}\u001b[0m\n"
     ]
    }
   ],
   "source": [
    "!ansible -b -m copy -a 'src={temp_dir}/docker_config dest=/etc/default/docker' {target_group}\n",
    "!ansible -b -m file -a 'path={docker_tmp} state=directory' {target_group}\n",
    "!ansible -b -m service -a 'name=docker state=restarted' {target_group}"
   ]
  },
  {
   "cell_type": "markdown",
   "metadata": {},
   "source": [
    "念のため、Docker Engineにより /mnt/docker, /mnt/docker-tmp にファイルが作成されていることを確認する。"
   ]
  },
  {
   "cell_type": "code",
   "execution_count": 21,
   "metadata": {
    "ExecuteTime": {
     "end_time": "2016-05-13T07:44:02.088751",
     "start_time": "2016-05-13T07:44:00.927141"
    },
    "collapsed": false,
    "scrolled": true
   },
   "outputs": [
    {
     "name": "stdout",
     "output_type": "stream",
     "text": [
      "\u001b[0;32mXXX.XXX.XXX.66 | SUCCESS | rc=0 >>\r\n",
      "/mnt/docker:\r\n",
      "total 36\r\n",
      "drwx--x--x 9 root root 4096 Jun 17 22:53 .\r\n",
      "drwxr-xr-x 4 root root 4096 Jun 17 22:53 ..\r\n",
      "drwx------ 5 root root 4096 Jun 17 22:53 aufs\r\n",
      "drwx------ 2 root root 4096 Jun 17 22:53 containers\r\n",
      "drwx------ 3 root root 4096 Jun 17 22:53 image\r\n",
      "drwxr-x--- 3 root root 4096 Jun 17 22:53 network\r\n",
      "drwx------ 2 root root 4096 Jun 17 22:53 tmp\r\n",
      "drwx------ 2 root root 4096 Jun 17 22:53 trust\r\n",
      "drwx------ 2 root root 4096 Jun 17 22:53 volumes\r\n",
      "\r\n",
      "/mnt/docker-tmp:\r\n",
      "total 8\r\n",
      "drwxr-xr-x 2 root root 4096 Jun 17 22:53 .\r\n",
      "drwxr-xr-x 4 root root 4096 Jun 17 22:53 ..\r\n",
      "\u001b[0m\r\n"
     ]
    }
   ],
   "source": [
    "!ansible -b -a 'ls -la {docker_tmp} {docker_base}' {target_group}"
   ]
  },
  {
   "cell_type": "markdown",
   "metadata": {},
   "source": [
    "Docker Engineのバージョンを確認する。"
   ]
  },
  {
   "cell_type": "code",
   "execution_count": 22,
   "metadata": {
    "ExecuteTime": {
     "end_time": "2016-05-13T07:44:06.276956",
     "start_time": "2016-05-13T07:44:05.055621"
    },
    "collapsed": false
   },
   "outputs": [
    {
     "name": "stdout",
     "output_type": "stream",
     "text": [
      "\u001b[0;32mXXX.XXX.XXX.66 | SUCCESS | rc=0 >>\r\n",
      "Client:\r\n",
      " Version:      1.11.2\r\n",
      " API version:  1.23\r\n",
      " Go version:   go1.5.4\r\n",
      " Git commit:   b9f10c9\r\n",
      " Built:        Wed Jun  1 21:47:50 2016\r\n",
      " OS/Arch:      linux/amd64\r\n",
      "\r\n",
      "Server:\r\n",
      " Version:      1.11.2\r\n",
      " API version:  1.23\r\n",
      " Go version:   go1.5.4\r\n",
      " Git commit:   b9f10c9\r\n",
      " Built:        Wed Jun  1 21:47:50 2016\r\n",
      " OS/Arch:      linux/amd64\r\n",
      "\u001b[0m\r\n"
     ]
    }
   ],
   "source": [
    "!ansible -b -a 'docker version' {target_group}"
   ]
  },
  {
   "cell_type": "markdown",
   "metadata": {},
   "source": [
    "# Docker Composeのインストール\n",
    "\n",
    "*2016/6/3時点* では、docker-composeのバージョンは1.7.1となる。"
   ]
  },
  {
   "cell_type": "code",
   "execution_count": 23,
   "metadata": {
    "ExecuteTime": {
     "end_time": "2016-05-13T07:44:50.145188",
     "start_time": "2016-05-13T07:44:41.669010"
    },
    "collapsed": false
   },
   "outputs": [
    {
     "name": "stdout",
     "output_type": "stream",
     "text": [
      "\u001b[0;32mXXX.XXX.XXX.66 | SUCCESS | rc=0 >>\r\n",
      "  % Total    % Received % Xferd  Average Speed   Time    Time     Time  Current\r\n",
      "                                 Dload  Upload   Total   Spent    Left  Speed\r\n",
      "\r",
      "  0     0    0     0    0     0      0      0 --:--:-- --:--:-- --:--:--     0\r",
      "  0     0    0     0    0     0      0      0 --:--:-- --:--:-- --:--:--     0\r",
      "100   600    0   600    0     0    683      0 --:--:-- --:--:-- --:--:--   683\r\n",
      "\r",
      "  0     0    0     0    0     0      0      0 --:--:--  0:00:01 --:--:--     0\r",
      "  0 7776k    0 68162    0     0  25471      0  0:05:12  0:00:02  0:05:10 71299\r",
      "  2 7776k    2  203k    0     0  57944      0  0:02:17  0:00:03  0:02:14  108k\r",
      "  6 7776k    6  491k    0     0   104k      0  0:01:14  0:00:04  0:01:10  164k\r",
      " 11 7776k   11  865k    0     0   153k      0  0:00:50  0:00:05  0:00:45  221k\r",
      " 17 7776k   17 1392k    0     0   211k      0  0:00:36  0:00:06  0:00:30  286k\r",
      " 20 7776k   20 1613k    0     0   210k      0  0:00:36  0:00:07  0:00:29  310k\r",
      " 25 7776k   25 1970k    0     0   229k      0  0:00:33  0:00:08  0:00:25  354k\r",
      " 33 7776k   33 2582k    0     0   266k      0  0:00:29  0:00:09  0:00:20  419k\r",
      " 39 7776k   39 3109k    0     0   293k      0  0:00:26  0:00:10  0:00:16  450k\r",
      " 48 7776k   48 3755k    0     0   320k      0  0:00:24  0:00:11  0:00:13  460k\r",
      " 55 7776k   55 4299k    0     0   340k      0  0:00:22  0:00:12  0:00:10  539k\r",
      " 63 7776k   63 4928k    0     0   362k      0  0:00:21  0:00:13  0:00:08  590k\r",
      " 71 7776k   71 5523k    0     0   376k      0  0:00:20  0:00:14  0:00:06  590k\r",
      " 78 7776k   78 6084k    0     0   390k      0  0:00:19  0:00:15  0:00:04  597k\r",
      " 87 7776k   87 6781k    0     0   406k      0  0:00:19  0:00:16  0:00:03  607k\r",
      " 94 7776k   94 7359k    0     0   417k      0  0:00:18  0:00:17  0:00:01  614k\r",
      "100 7776k  100 7776k    0     0   427k      0  0:00:18  0:00:18 --:--:--  620k\r\n",
      "\u001b[0m\r\n"
     ]
    }
   ],
   "source": [
    "!ansible -b -m shell \\\n",
    "         -a 'curl -L https://github.com/docker/compose/releases/download/1.7.1/docker-compose-`uname -s`-`uname -m` \\\n",
    "                 > /usr/local/bin/docker-compose' {target_group}"
   ]
  },
  {
   "cell_type": "code",
   "execution_count": 24,
   "metadata": {
    "ExecuteTime": {
     "end_time": "2016-05-13T07:44:51.378884",
     "start_time": "2016-05-13T07:44:50.149976"
    },
    "collapsed": false
   },
   "outputs": [
    {
     "name": "stdout",
     "output_type": "stream",
     "text": [
      "\u001b[0;32mXXX.XXX.XXX.66 | SUCCESS | rc=0 >>\r\n",
      "\r\n",
      "\u001b[0m\r\n"
     ]
    }
   ],
   "source": [
    "!ansible -b -a 'chmod +x /usr/local/bin/docker-compose' {target_group}"
   ]
  },
  {
   "cell_type": "code",
   "execution_count": 25,
   "metadata": {
    "ExecuteTime": {
     "end_time": "2016-05-13T07:44:53.135491",
     "start_time": "2016-05-13T07:44:51.384906"
    },
    "collapsed": false
   },
   "outputs": [
    {
     "name": "stdout",
     "output_type": "stream",
     "text": [
      "\u001b[0;32mXXX.XXX.XXX.66 | SUCCESS | rc=0 >>\r\n",
      "docker-compose version 1.7.1, build 0a9ab35\r\n",
      "\u001b[0m\r\n"
     ]
    }
   ],
   "source": [
    "!ansible -b -a 'docker-compose --version' {target_group}"
   ]
  },
  {
   "cell_type": "markdown",
   "metadata": {},
   "source": [
    "# Docker Engineの動作確認\n",
    "\n",
    "まずはお試しで、hello-worldイメージを実行してみる。`Hello from Docker`のようなメッセージが表示されたらOK。"
   ]
  },
  {
   "cell_type": "code",
   "execution_count": 26,
   "metadata": {
    "ExecuteTime": {
     "end_time": "2016-05-13T07:44:58.436640",
     "start_time": "2016-05-13T07:44:53.139843"
    },
    "collapsed": false
   },
   "outputs": [
    {
     "name": "stdout",
     "output_type": "stream",
     "text": [
      "\u001b[0;32mXXX.XXX.XXX.66 | SUCCESS | rc=0 >>\r\n",
      "\r\n",
      "Hello from Docker.\r\n",
      "This message shows that your installation appears to be working correctly.\r\n",
      "\r\n",
      "To generate this message, Docker took the following steps:\r\n",
      " 1. The Docker client contacted the Docker daemon.\r\n",
      " 2. The Docker daemon pulled the \"hello-world\" image from the Docker Hub.\r\n",
      " 3. The Docker daemon created a new container from that image which runs the\r\n",
      "    executable that produces the output you are currently reading.\r\n",
      " 4. The Docker daemon streamed that output to the Docker client, which sent it\r\n",
      "    to your terminal.\r\n",
      "\r\n",
      "To try something more ambitious, you can run an Ubuntu container with:\r\n",
      " $ docker run -it ubuntu bash\r\n",
      "\r\n",
      "Share images, automate workflows, and more with a free Docker Hub account:\r\n",
      " https://hub.docker.com\r\n",
      "\r\n",
      "For more examples and ideas, visit:\r\n",
      " https://docs.docker.com/engine/userguide/Unable to find image 'hello-world:latest' locally\r\n",
      "latest: Pulling from library/hello-world\r\n",
      "a9d36faac0fe: Pulling fs layer\r\n",
      "a9d36faac0fe: Verifying Checksum\r\n",
      "a9d36faac0fe: Download complete\r\n",
      "a9d36faac0fe: Pull complete\r\n",
      "Digest: sha256:e52be8ffeeb1f374f440893189cd32f44cb166650e7ab185fa7735b7dc48d619\r\n",
      "Status: Downloaded newer image for hello-world:latest\r\n",
      "\u001b[0m\r\n"
     ]
    }
   ],
   "source": [
    "!ansible -b -a 'docker run hello-world' {target_group}"
   ]
  },
  {
   "cell_type": "markdown",
   "metadata": {},
   "source": [
    "Dockerのhello-worldイメージが実行された。OK。"
   ]
  },
  {
   "cell_type": "markdown",
   "metadata": {},
   "source": [
    "# Docker Composeの動作確認\n",
    "\n",
    "Docker Composeが動作することも確認しておく。\n",
    "\n",
    "まずローカルにdocker-compose.ymlファイルを準備。"
   ]
  },
  {
   "cell_type": "code",
   "execution_count": 27,
   "metadata": {
    "collapsed": true
   },
   "outputs": [],
   "source": [
    "!mkdir -p {temp_dir}/hello-compose/"
   ]
  },
  {
   "cell_type": "code",
   "execution_count": 28,
   "metadata": {
    "collapsed": false
   },
   "outputs": [
    {
     "name": "stdout",
     "output_type": "stream",
     "text": [
      "Writing /tmp/tmppOH4Qq/hello-compose/docker-compose.yml\n"
     ]
    }
   ],
   "source": [
    "%%writefile {temp_dir}/hello-compose/docker-compose.yml\n",
    "version: '2'\n",
    "services:\n",
    "  test-hello-world:\n",
    "    image: hello-world"
   ]
  },
  {
   "cell_type": "markdown",
   "metadata": {},
   "source": [
    "作成したdocker-compose.ymlを、Bind対象ホストにアップロードする。"
   ]
  },
  {
   "cell_type": "code",
   "execution_count": 29,
   "metadata": {
    "collapsed": false
   },
   "outputs": [
    {
     "name": "stdout",
     "output_type": "stream",
     "text": [
      "\u001b[0;33mXXX.XXX.XXX.66 | SUCCESS => {\r\n",
      "    \"changed\": true, \r\n",
      "    \"checksum\": \"19f3b6e911e6461b09d1ddaf5a5f7f8dbc538a6e\", \r\n",
      "    \"dest\": \"/root/hello-compose/docker-compose.yml\", \r\n",
      "    \"gid\": 0, \r\n",
      "    \"group\": \"root\", \r\n",
      "    \"md5sum\": \"a157d75e4107e5c1aa63441b9ff90758\", \r\n",
      "    \"mode\": \"0644\", \r\n",
      "    \"owner\": \"root\", \r\n",
      "    \"size\": 65, \r\n",
      "    \"src\": \"/home/ansible/.ansible/tmp/ansible-tmp-1466171662.93-184926426460876/source\", \r\n",
      "    \"state\": \"file\", \r\n",
      "    \"uid\": 0\r\n",
      "}\u001b[0m\r\n"
     ]
    }
   ],
   "source": [
    "!ansible -b -m copy -a 'src={temp_dir}/hello-compose dest=~' {target_group}"
   ]
  },
  {
   "cell_type": "markdown",
   "metadata": {},
   "source": [
    "実行してみる。`Hello from Docker`のようなメッセージが表示されたらOK。"
   ]
  },
  {
   "cell_type": "code",
   "execution_count": 30,
   "metadata": {
    "collapsed": false
   },
   "outputs": [
    {
     "name": "stdout",
     "output_type": "stream",
     "text": [
      "\u001b[0;32mXXX.XXX.XXX.66 | SUCCESS | rc=0 >>\r\n",
      "Attaching to hellocompose_test-hello-world_1\r\n",
      "\u001b[36mtest-hello-world_1  |\u001b[0m \r\n",
      "\u001b[36mtest-hello-world_1  |\u001b[0m Hello from Docker.\r\n",
      "\u001b[36mtest-hello-world_1  |\u001b[0m This message shows that your installation appears to be working correctly.\r\n",
      "\u001b[36mtest-hello-world_1  |\u001b[0m \r\n",
      "\u001b[36mtest-hello-world_1  |\u001b[0m To generate this message, Docker took the following steps:\r\n",
      "\u001b[36mtest-hello-world_1  |\u001b[0m  1. The Docker client contacted the Docker daemon.\r\n",
      "\u001b[36mtest-hello-world_1  |\u001b[0m  2. The Docker daemon pulled the \"hello-world\" image from the Docker Hub.\r\n",
      "\u001b[36mtest-hello-world_1  |\u001b[0m  3. The Docker daemon created a new container from that image which runs the\r\n",
      "\u001b[36mtest-hello-world_1  |\u001b[0m     executable that produces the output you are currently reading.\r\n",
      "\u001b[36mtest-hello-world_1  |\u001b[0m  4. The Docker daemon streamed that output to the Docker client, which sent it\r\n",
      "\u001b[36mtest-hello-world_1  |\u001b[0m     to your terminal.\r\n",
      "\u001b[36mtest-hello-world_1  |\u001b[0m \r\n",
      "\u001b[36mtest-hello-world_1  |\u001b[0m To try something more ambitious, you can run an Ubuntu container with:\r\n",
      "\u001b[36mtest-hello-world_1  |\u001b[0m  $ docker run -it ubuntu bash\r\n",
      "\u001b[36mtest-hello-world_1  |\u001b[0m \r\n",
      "\u001b[36mtest-hello-world_1  |\u001b[0m Share images, automate workflows, and more with a free Docker Hub account:\r\n",
      "\u001b[36mtest-hello-world_1  |\u001b[0m  https://hub.docker.com\r\n",
      "\u001b[36mtest-hello-world_1  |\u001b[0m \r\n",
      "\u001b[36mtest-hello-world_1  |\u001b[0m For more examples and ideas, visit:\r\n",
      "\u001b[36mtest-hello-world_1  |\u001b[0m  https://docs.docker.com/engine/userguide/\r\n",
      "\u001b[36mtest-hello-world_1  |\u001b[0m \r\n",
      "\u001b[36mhellocompose_test-hello-world_1 exited with code 0\r\n",
      "\u001b[0mCreating network \"hellocompose_default\" with the default driver\r\n",
      "Creating hellocompose_test-hello-world_1\r\n",
      "\u001b[0m\r\n"
     ]
    }
   ],
   "source": [
    "!ansible -b -a 'chdir=~/hello-compose docker-compose up' {target_group}"
   ]
  },
  {
   "cell_type": "markdown",
   "metadata": {},
   "source": [
    "# 後始末\n",
    "\n",
    "一時ディレクトリを削除する。"
   ]
  },
  {
   "cell_type": "code",
   "execution_count": 31,
   "metadata": {
    "ExecuteTime": {
     "end_time": "2016-05-13T07:49:11.297336",
     "start_time": "2016-05-13T07:49:11.128387"
    },
    "collapsed": false
   },
   "outputs": [],
   "source": [
    "!rm -fr {temp_dir}"
   ]
  },
  {
   "cell_type": "code",
   "execution_count": null,
   "metadata": {
    "collapsed": true
   },
   "outputs": [],
   "source": []
  }
 ],
 "metadata": {
  "kernelspec": {
   "display_name": "Python 2",
   "language": "python",
   "name": "python2"
  },
  "language_info": {
   "codemirror_mode": {
    "name": "ipython",
    "version": 2
   },
   "file_extension": ".py",
   "mimetype": "text/x-python",
   "name": "python",
   "nbconvert_exporter": "python",
   "pygments_lexer": "ipython2",
   "version": "2.7.6"
  },
  "toc": {
   "toc_cell": false,
   "toc_number_sections": true,
   "toc_threshold": 6,
   "toc_window_display": false
  }
 },
 "nbformat": 4,
 "nbformat_minor": 0
}
